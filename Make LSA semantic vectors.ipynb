{
 "cells": [
  {
   "cell_type": "code",
   "execution_count": 23,
   "id": "263fccd2",
   "metadata": {},
   "outputs": [],
   "source": [
    "import numpy as np\n",
    "import time\n",
    "from collections import Counter\n",
    "from sklearn.decomposition import TruncatedSVD"
   ]
  },
  {
   "cell_type": "code",
   "execution_count": 24,
   "id": "3fcb36b3",
   "metadata": {},
   "outputs": [],
   "source": [
    "def sel_second(x):\n",
    "    return x[1]"
   ]
  },
  {
   "cell_type": "code",
   "execution_count": 25,
   "id": "7ad007d2",
   "metadata": {},
   "outputs": [],
   "source": [
    "def normalize_vec(vec):\n",
    "    if np.sum(vec**2) > 0:\n",
    "        sq_vec = vec**2\n",
    "        sum_sq = np.sum(sq_vec)\n",
    "        mag = np.sqrt(sum_sq)\n",
    "        normed_vec = vec / mag\n",
    "    else:\n",
    "        normed_vec = vec.copy()\n",
    "    return normed_vec"
   ]
  },
  {
   "cell_type": "code",
   "execution_count": 26,
   "id": "6e7353eb",
   "metadata": {},
   "outputs": [],
   "source": [
    "def normalize_matrix(mat):\n",
    "    sq_mat = mat**2\n",
    "    sum_sq = np.sum(sq_mat, axis=1)\n",
    "    mag = np.sqrt(sum_sq)\n",
    "    normed_mat = np.transpose((np.transpose(mat) / mag))\n",
    "    return normed_mat"
   ]
  },
  {
   "cell_type": "code",
   "execution_count": 27,
   "id": "554ecbc8",
   "metadata": {},
   "outputs": [],
   "source": [
    "def find_neighbors(word, dic, mat, n=20):\n",
    "    cos_sim = normalize_vec(mat[dic[word]]) @ np.transpose(normalize_matrix(mat))\n",
    "    cos_sim = list(zip([i for i in dic], cos_sim))\n",
    "    cos_sim.sort(key = sel_second, reverse=True)\n",
    "    return cos_sim[1:(n+1)]"
   ]
  },
  {
   "cell_type": "code",
   "execution_count": 28,
   "id": "adcbd63d",
   "metadata": {},
   "outputs": [],
   "source": [
    "def cosine(word1, word2):\n",
    "    return normalize_vec(word_matrix[word_dic[word1]]) @ normalize_vec(word_matrix[word_dic[word2]])"
   ]
  },
  {
   "cell_type": "markdown",
   "id": "23d48c06",
   "metadata": {},
   "source": [
    "I can't share the TASA corpus, so instead, to demostrate the LSA code, I will run the code on a set of articles from Wikipedia. This will not create the same vectors we used in the simulations, but you can download those vectors directly from our OSF page at: https://osf.io/6mys9/"
   ]
  },
  {
   "cell_type": "code",
   "execution_count": 29,
   "id": "3a2cf744",
   "metadata": {},
   "outputs": [],
   "source": [
    "#load corpus, corpus file available from Github\n",
    "with open('mini_wiki_corpus.txt', 'r', encoding='utf-8') as f:\n",
    "    df = f.read()"
   ]
  },
  {
   "cell_type": "code",
   "execution_count": 30,
   "id": "126d5fc4",
   "metadata": {},
   "outputs": [],
   "source": [
    "#Process corpus into lists of words by document\n",
    "#Get list of unique words in corpus\n",
    "corpus = []\n",
    "word_list = []\n",
    "df = df.split('\\n')\n",
    "for i in df:\n",
    "    words = i.strip()\n",
    "    words = words.split(' ')\n",
    "    corpus.append(words)\n",
    "    word_list.extend(words)"
   ]
  },
  {
   "cell_type": "code",
   "execution_count": 31,
   "id": "8cd24d02",
   "metadata": {},
   "outputs": [],
   "source": [
    "# get frequency counts for all words\n",
    "count_list = Counter(word_list)\n",
    "count_list = [[i, count_list[i]] for i in count_list]\n",
    "count_list.sort(key=sel_second, reverse=True)"
   ]
  },
  {
   "cell_type": "code",
   "execution_count": 32,
   "id": "1ef21c9d",
   "metadata": {},
   "outputs": [],
   "source": [
    "# create list of 50,000 most frequent words\n",
    "word_list = [i[0] for i in count_list[:50000]]"
   ]
  },
  {
   "cell_type": "code",
   "execution_count": 33,
   "id": "9fed440d",
   "metadata": {},
   "outputs": [],
   "source": [
    "# dictionary to index rows of matrix based on the word\n",
    "word_dic = {}\n",
    "for i in range(0, len(word_list)):\n",
    "    word_dic[word_list[i]] = i"
   ]
  },
  {
   "cell_type": "code",
   "execution_count": 34,
   "id": "b58a6aaf",
   "metadata": {},
   "outputs": [],
   "source": [
    "# matrix of zeros\n",
    "word_matrix = np.zeros(shape=(len(word_list), len(corpus)), dtype=np.float32)"
   ]
  },
  {
   "cell_type": "code",
   "execution_count": 35,
   "id": "d1e2c5e0",
   "metadata": {},
   "outputs": [],
   "source": [
    "# loop to count words in each document (constructs raw count matrix)\n",
    "for i in range(0, len(corpus)):\n",
    "    for x in corpus[i]:\n",
    "        if x in word_dic:\n",
    "            word_matrix[word_dic[x]][i] += 1"
   ]
  },
  {
   "cell_type": "code",
   "execution_count": 36,
   "id": "10eac5dd",
   "metadata": {},
   "outputs": [],
   "source": [
    "# calculate entropy weights for each row\n",
    "entropy_vec = []\n",
    "for i in range(0, len(word_matrix)):\n",
    "    p_vec = word_matrix[i] / np.sum(word_matrix[i])\n",
    "    p_vec = p_vec[p_vec > 0]\n",
    "    log_entropy = 1 + np.sum((p_vec * np.log2(p_vec)) / np.log2(len(word_matrix[i])))\n",
    "    entropy_vec.append(log_entropy)"
   ]
  },
  {
   "cell_type": "code",
   "execution_count": 37,
   "id": "14354bbd",
   "metadata": {},
   "outputs": [],
   "source": [
    "# apply log transform and entropy weight\n",
    "for i in range(0, len(word_matrix)):\n",
    "    word_matrix[i] = np.log(word_matrix[i] + 1) * entropy_vec[i]"
   ]
  },
  {
   "cell_type": "code",
   "execution_count": 38,
   "id": "e8616bce",
   "metadata": {},
   "outputs": [],
   "source": [
    "# code for svd\n",
    "svd = TruncatedSVD(n_components=300, algorithm='arpack')"
   ]
  },
  {
   "cell_type": "code",
   "execution_count": null,
   "id": "ff36ce8d",
   "metadata": {},
   "outputs": [],
   "source": [
    "# compute svd (takes a while)\n",
    "start = time.time()\n",
    "word_matrix = svd.fit_transform(word_matrix)\n",
    "end = time.time()\n",
    "end-start"
   ]
  },
  {
   "cell_type": "code",
   "execution_count": 40,
   "id": "2ff61cbe",
   "metadata": {},
   "outputs": [],
   "source": [
    "# normalize matrix\n",
    "normed_matrix = normalize_matrix(word_matrix)"
   ]
  },
  {
   "cell_type": "code",
   "execution_count": null,
   "id": "b4f53e87",
   "metadata": {},
   "outputs": [],
   "source": [
    "find_neighbors('nfl', word_dic, word_matrix, n=10)"
   ]
  },
  {
   "cell_type": "code",
   "execution_count": null,
   "id": "d41c8d63",
   "metadata": {},
   "outputs": [],
   "source": [
    "cosine('quarterback', 'linebacker')"
   ]
  }
 ],
 "metadata": {
  "kernelspec": {
   "display_name": "Python 3",
   "language": "python",
   "name": "python3"
  },
  "language_info": {
   "codemirror_mode": {
    "name": "ipython",
    "version": 3
   },
   "file_extension": ".py",
   "mimetype": "text/x-python",
   "name": "python",
   "nbconvert_exporter": "python",
   "pygments_lexer": "ipython3",
   "version": "3.8.8"
  }
 },
 "nbformat": 4,
 "nbformat_minor": 5
}
