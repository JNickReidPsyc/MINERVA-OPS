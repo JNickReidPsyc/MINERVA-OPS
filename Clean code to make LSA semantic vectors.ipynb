{
 "cells": [
  {
   "cell_type": "code",
   "execution_count": 69,
   "id": "263fccd2",
   "metadata": {},
   "outputs": [],
   "source": [
    "import string\n",
    "import numpy as np\n",
    "import random\n",
    "import csv\n",
    "import time\n",
    "import pickle\n",
    "from collections import Counter\n",
    "from sklearn.decomposition import TruncatedSVD"
   ]
  },
  {
   "cell_type": "code",
   "execution_count": 70,
   "id": "3fcb36b3",
   "metadata": {},
   "outputs": [],
   "source": [
    "def sel_second(x):\n",
    "    return x[1]"
   ]
  },
  {
   "cell_type": "code",
   "execution_count": 71,
   "id": "7ad007d2",
   "metadata": {},
   "outputs": [],
   "source": [
    "def normalize_vec(vec):\n",
    "    if np.sum(vec**2) > 0:\n",
    "        sq_vec = vec**2\n",
    "        sum_sq = np.sum(sq_vec)\n",
    "        mag = np.sqrt(sum_sq)\n",
    "        normed_vec = vec / mag\n",
    "    else:\n",
    "        normed_vec = vec.copy()\n",
    "    return normed_vec"
   ]
  },
  {
   "cell_type": "code",
   "execution_count": 72,
   "id": "6e7353eb",
   "metadata": {},
   "outputs": [],
   "source": [
    "def normalize_matrix(mat):\n",
    "    sq_mat = mat**2\n",
    "    sum_sq = np.sum(sq_mat, axis=1)\n",
    "    mag = np.sqrt(sum_sq)\n",
    "    normed_mat = np.transpose((np.transpose(mat) / mag))\n",
    "    return normed_mat"
   ]
  },
  {
   "cell_type": "code",
   "execution_count": 73,
   "id": "554ecbc8",
   "metadata": {},
   "outputs": [],
   "source": [
    "def find_neighbors(word, dic, mat, n=20):\n",
    "    cos_sim = normalize_vec(mat[dic[word]]) @ np.transpose(normalize_matrix(mat))\n",
    "    cos_sim = list(zip([i for i in dic], cos_sim))\n",
    "    cos_sim.sort(key = sel_second, reverse=True)\n",
    "    return cos_sim[1:(n+1)]"
   ]
  },
  {
   "cell_type": "code",
   "execution_count": 74,
   "id": "adcbd63d",
   "metadata": {},
   "outputs": [],
   "source": [
    "def cosine(word1, word2):\n",
    "    return normalize_vec(word_matrix[word_dic[word1]]) @ normalize_vec(word_matrix[word_dic[word2]])"
   ]
  },
  {
   "cell_type": "markdown",
   "id": "f3a75aa8",
   "metadata": {},
   "source": [
    "I can't share the TASA corpus, so instead, to demostrate the LSA code, I will run the code on a set of articles from Wikipedia. This will not create the same vectors we used in the simulations, but you can download those vectors directly from my github."
   ]
  },
  {
   "cell_type": "code",
   "execution_count": 75,
   "id": "3a2cf744",
   "metadata": {},
   "outputs": [],
   "source": [
    "#load corpus, corpus file available from Github\n",
    "with open('mini_wiki_corpus_mar_14', 'rb') as f:\n",
    "    corpus = pickle.load(f)"
   ]
  },
  {
   "cell_type": "code",
   "execution_count": 76,
   "id": "4176c0b8",
   "metadata": {},
   "outputs": [],
   "source": [
    "# get documents as lists of words\n",
    "word_list = []\n",
    "for article in corpus:\n",
    "    word_list.extend(article)"
   ]
  },
  {
   "cell_type": "code",
   "execution_count": 77,
   "id": "8cd24d02",
   "metadata": {},
   "outputs": [],
   "source": [
    "# get frequency counts for all words\n",
    "count_list = Counter(word_list)\n",
    "count_list = [[i, count_list[i]] for i in count_list]\n",
    "count_list.sort(key=sel_second, reverse=True)"
   ]
  },
  {
   "cell_type": "code",
   "execution_count": 78,
   "id": "1ef21c9d",
   "metadata": {},
   "outputs": [],
   "source": [
    "# create list of 50,000 most frequent words\n",
    "word_list = [i[0] for i in count_list[:50000]]"
   ]
  },
  {
   "cell_type": "code",
   "execution_count": 79,
   "id": "9fed440d",
   "metadata": {},
   "outputs": [],
   "source": [
    "# dictionary to index rows of matrix based on the word\n",
    "word_dic = {}\n",
    "for i in range(0, len(word_list)):\n",
    "    word_dic[word_list[i]] = i"
   ]
  },
  {
   "cell_type": "code",
   "execution_count": 80,
   "id": "b58a6aaf",
   "metadata": {},
   "outputs": [],
   "source": [
    "# matrix of zeros\n",
    "word_matrix = np.zeros(shape=(len(word_list), len(corpus)), dtype=np.float32)"
   ]
  },
  {
   "cell_type": "code",
   "execution_count": 81,
   "id": "d1e2c5e0",
   "metadata": {},
   "outputs": [],
   "source": [
    "# loop to count words in each document (constructs raw count matrix)\n",
    "for i in range(0, len(corpus)):\n",
    "    for x in corpus[i]:\n",
    "        if x in word_dic:\n",
    "            word_matrix[word_dic[x]][i] += 1"
   ]
  },
  {
   "cell_type": "code",
   "execution_count": 82,
   "id": "10eac5dd",
   "metadata": {},
   "outputs": [],
   "source": [
    "# calculate entropy weights for each row\n",
    "entropy_vec = []\n",
    "for i in range(0, len(word_matrix)):\n",
    "    p_vec = word_matrix[i] / np.sum(word_matrix[i])\n",
    "    p_vec = p_vec[p_vec > 0]\n",
    "    log_entropy = 1 + np.sum((p_vec * np.log2(p_vec)) / np.log2(len(word_matrix[i])))\n",
    "    entropy_vec.append(log_entropy)"
   ]
  },
  {
   "cell_type": "code",
   "execution_count": 83,
   "id": "14354bbd",
   "metadata": {},
   "outputs": [],
   "source": [
    "# apply log transform and entropy weight\n",
    "for i in range(0, len(word_matrix)):\n",
    "    word_matrix[i] = np.log(word_matrix[i] + 1) * entropy_vec[i]"
   ]
  },
  {
   "cell_type": "code",
   "execution_count": 84,
   "id": "e8616bce",
   "metadata": {},
   "outputs": [],
   "source": [
    "# code for svd\n",
    "svd = TruncatedSVD(n_components=300, algorithm='arpack')"
   ]
  },
  {
   "cell_type": "code",
   "execution_count": 85,
   "id": "04ede2bd",
   "metadata": {},
   "outputs": [
    {
     "data": {
      "text/plain": [
       "328.68871784210205"
      ]
     },
     "execution_count": 85,
     "metadata": {},
     "output_type": "execute_result"
    }
   ],
   "source": [
    "# compute svd (takes a while)\n",
    "start = time.time()\n",
    "word_matrix = svd.fit_transform(word_matrix)\n",
    "end = time.time()\n",
    "end-start"
   ]
  },
  {
   "cell_type": "code",
   "execution_count": 86,
   "id": "2ff61cbe",
   "metadata": {},
   "outputs": [],
   "source": [
    "normed_matrix = normalize_matrix(word_matrix)"
   ]
  },
  {
   "cell_type": "code",
   "execution_count": 62,
   "id": "94917a21",
   "metadata": {},
   "outputs": [
    {
     "data": {
      "text/plain": [
       "[('lineman', 0.9032235),\n",
       " ('quarterback', 0.8827136),\n",
       " ('sacks', 0.87340903),\n",
       " ('tackle', 0.8715938),\n",
       " ('punter', 0.86636007),\n",
       " ('chargers', 0.86122316),\n",
       " ('packers', 0.8430953),\n",
       " ('defensive', 0.8400181),\n",
       " ('cowboys', 0.8371231),\n",
       " ('linebacker', 0.82938904),\n",
       " ('tackles', 0.8258298),\n",
       " ('interception', 0.80563587),\n",
       " ('bengals', 0.8055953),\n",
       " ('buccaneers', 0.80507517),\n",
       " ('vikings', 0.79548335),\n",
       " ('ers', 0.79499865),\n",
       " ('bowl', 0.7928308),\n",
       " ('seahawks', 0.790975),\n",
       " ('punt', 0.7885048),\n",
       " ('fumble', 0.7804296)]"
      ]
     },
     "execution_count": 62,
     "metadata": {},
     "output_type": "execute_result"
    }
   ],
   "source": [
    "find_neighbors('nfl', word_dic, word_matrix)"
   ]
  },
  {
   "cell_type": "code",
   "execution_count": 88,
   "id": "484ab411",
   "metadata": {},
   "outputs": [
    {
     "data": {
      "text/plain": [
       "0.8420482"
      ]
     },
     "execution_count": 88,
     "metadata": {},
     "output_type": "execute_result"
    }
   ],
   "source": [
    "cosine('quarterback', 'linebacker')"
   ]
  }
 ],
 "metadata": {
  "kernelspec": {
   "display_name": "Python 3",
   "language": "python",
   "name": "python3"
  },
  "language_info": {
   "codemirror_mode": {
    "name": "ipython",
    "version": 3
   },
   "file_extension": ".py",
   "mimetype": "text/x-python",
   "name": "python",
   "nbconvert_exporter": "python",
   "pygments_lexer": "ipython3",
   "version": "3.8.8"
  }
 },
 "nbformat": 4,
 "nbformat_minor": 5
}
