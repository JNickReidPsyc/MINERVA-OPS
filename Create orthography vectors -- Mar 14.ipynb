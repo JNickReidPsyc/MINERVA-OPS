{
 "cells": [
  {
   "cell_type": "code",
   "execution_count": 33,
   "id": "e1eefa7d",
   "metadata": {},
   "outputs": [],
   "source": [
    "import numpy as np\n",
    "import pickle\n",
    "from sklearn.decomposition import TruncatedSVD\n",
    "import time\n",
    "from itertools import product"
   ]
  },
  {
   "cell_type": "code",
   "execution_count": 34,
   "id": "35c06e70",
   "metadata": {},
   "outputs": [],
   "source": [
    "def sel_second(x):\n",
    "    return x[1]"
   ]
  },
  {
   "cell_type": "code",
   "execution_count": 35,
   "id": "f64e3888",
   "metadata": {},
   "outputs": [],
   "source": [
    "def normalize_matrix(mat):\n",
    "    sq_mat = mat**2\n",
    "    sum_sq = np.sum(sq_mat, axis=1)\n",
    "    mag = np.sqrt(sum_sq)\n",
    "    mag[mag == 0] = 1\n",
    "    normed_mat = np.transpose((np.transpose(mat) / mag))\n",
    "    return normed_mat"
   ]
  },
  {
   "cell_type": "code",
   "execution_count": 36,
   "id": "0b042666",
   "metadata": {},
   "outputs": [],
   "source": [
    "# load TASA word list and nonwords from experiment 3\n",
    "with open('All TASA words plus nonwords from experiment', 'rb') as f:\n",
    "    word_list = pickle.load(f)"
   ]
  },
  {
   "cell_type": "code",
   "execution_count": 53,
   "id": "d3f20ed5",
   "metadata": {},
   "outputs": [],
   "source": [
    "#function to extract seriol2 open bigrams with weights\n",
    "def extract_bigrams(word, weights=[1, 0.7, 0.5]):\n",
    "    seriol_word = '*' + word + '*'\n",
    "    bigrams = []\n",
    "    for i in range(0, len(seriol_word)):\n",
    "        for x in range(1, 4):\n",
    "            if (i+x) < len(seriol_word):\n",
    "                bigrams.append((seriol_word[i] + seriol_word[i+x], weights[x-1]))\n",
    "    bigrams = [i for i in bigrams if i[0]!='**']\n",
    "    bigrams.sort(key=sel_second, reverse=True)\n",
    "    return bigrams"
   ]
  },
  {
   "cell_type": "code",
   "execution_count": 54,
   "id": "45e3137e",
   "metadata": {},
   "outputs": [
    {
     "data": {
      "text/plain": [
       "[('*p', 1),\n",
       " ('pi', 1),\n",
       " ('in', 1),\n",
       " ('nk', 1),\n",
       " ('k*', 1),\n",
       " ('*i', 0.7),\n",
       " ('pn', 0.7),\n",
       " ('ik', 0.7),\n",
       " ('n*', 0.7),\n",
       " ('*n', 0.5),\n",
       " ('pk', 0.5),\n",
       " ('i*', 0.5)]"
      ]
     },
     "execution_count": 54,
     "metadata": {},
     "output_type": "execute_result"
    }
   ],
   "source": [
    "# example bigrams for word 'pink'\n",
    "extract_bigrams('pink')"
   ]
  },
  {
   "cell_type": "code",
   "execution_count": 38,
   "id": "a4ff67b0",
   "metadata": {},
   "outputs": [],
   "source": [
    "# find all unique bigrams\n",
    "unique_strings = []\n",
    "for i in word_list:\n",
    "    unique_strings.extend(list(set([x[0] for x in extract_bigrams(i)])))\n",
    "unique_strings = list(set(unique_strings))"
   ]
  },
  {
   "cell_type": "code",
   "execution_count": 39,
   "id": "7ad1e976",
   "metadata": {},
   "outputs": [],
   "source": [
    "# create matrix of zeros to be filled in\n",
    "ortho_matrix = np.zeros((len(word_list), len(unique_strings)), dtype=np.float32)"
   ]
  },
  {
   "cell_type": "code",
   "execution_count": 40,
   "id": "242e5e00",
   "metadata": {},
   "outputs": [],
   "source": [
    "#set up dictionary to index rows of matrix by word\n",
    "ortho_dic = {}\n",
    "for i in range(0, len(word_list)):\n",
    "    ortho_dic[all_words[i]] = i"
   ]
  },
  {
   "cell_type": "code",
   "execution_count": 41,
   "id": "27026a88",
   "metadata": {},
   "outputs": [],
   "source": [
    "#set up dictionary to index columns of matrix by bigram\n",
    "string_dic = {}\n",
    "for i in range(0, len(unique_strings)):\n",
    "    string_dic[unique_strings[i]] = i"
   ]
  },
  {
   "cell_type": "code",
   "execution_count": 42,
   "id": "27981155",
   "metadata": {},
   "outputs": [],
   "source": [
    "# construct word by bigram matrix\n",
    "for i in word_list:\n",
    "    for x in extract_bigrams(i):\n",
    "        ortho_matrix[ortho_dic[i]][string_dic[x[0]]] += x[1] #adds weight for each bigram to matrix"
   ]
  },
  {
   "cell_type": "code",
   "execution_count": 43,
   "id": "905b2c1c",
   "metadata": {},
   "outputs": [],
   "source": [
    "# set up Singular Value Decomposition\n",
    "svd = TruncatedSVD(n_components=300, algorithm='arpack')"
   ]
  },
  {
   "cell_type": "code",
   "execution_count": 44,
   "id": "141b8cef",
   "metadata": {},
   "outputs": [
    {
     "name": "stdout",
     "output_type": "stream",
     "text": [
      "30.34664297103882\n"
     ]
    }
   ],
   "source": [
    "# conduct singular value decomposition\n",
    "start = time.time()\n",
    "ortho_matrix = svd.fit_transform(ortho_matrix)\n",
    "end = time.time()\n",
    "print(end-start)"
   ]
  },
  {
   "cell_type": "code",
   "execution_count": 45,
   "id": "ef7fa481",
   "metadata": {},
   "outputs": [],
   "source": [
    "#normalize matrix\n",
    "ortho_matrix = normalize_matrix(ortho_matrix)"
   ]
  },
  {
   "cell_type": "code",
   "execution_count": 46,
   "id": "ea080c1c",
   "metadata": {},
   "outputs": [],
   "source": [
    "def find_neighbors(x, dic, mat, n=30):\n",
    "    simvec = mat[dic[x]] @ np.transpose(mat)\n",
    "    sim_list = list(zip([i for i in dic], simvec))\n",
    "    sim_list.sort(key=sel_second, reverse=True)\n",
    "    return sim_list[1:(n+1)]"
   ]
  },
  {
   "cell_type": "code",
   "execution_count": 47,
   "id": "e33e8bd9",
   "metadata": {},
   "outputs": [],
   "source": [
    "def cosine(word1, word2):\n",
    "    return ortho_matrix[ortho_dic[word1]] @ ortho_matrix[ortho_dic[word2]]"
   ]
  },
  {
   "cell_type": "code",
   "execution_count": 50,
   "id": "b9d20a3c",
   "metadata": {},
   "outputs": [
    {
     "data": {
      "text/plain": [
       "0.9030265"
      ]
     },
     "execution_count": 50,
     "metadata": {},
     "output_type": "execute_result"
    }
   ],
   "source": [
    "cosine('three', 'there')"
   ]
  },
  {
   "cell_type": "code",
   "execution_count": 68,
   "id": "e76c8aad",
   "metadata": {},
   "outputs": [
    {
     "data": {
      "text/plain": [
       "[('snowy', 0.8676627),\n",
       " ('snows', 0.8621983),\n",
       " ('sno', 0.84822625),\n",
       " ('snowplow', 0.7896492),\n",
       " ('now', 0.7622118),\n",
       " ('sown', 0.75407207),\n",
       " ('snob', 0.7506656),\n",
       " ('snowplows', 0.74525374),\n",
       " ('sow', 0.71746284),\n",
       " ('snowes', 0.7093685)]"
      ]
     },
     "execution_count": 68,
     "metadata": {},
     "output_type": "execute_result"
    }
   ],
   "source": [
    "find_neighbors('snow', ortho_dic, ortho_matrix, n=10)"
   ]
  },
  {
   "cell_type": "code",
   "execution_count": null,
   "id": "c05c95da",
   "metadata": {},
   "outputs": [],
   "source": []
  }
 ],
 "metadata": {
  "kernelspec": {
   "display_name": "Python 3",
   "language": "python",
   "name": "python3"
  },
  "language_info": {
   "codemirror_mode": {
    "name": "ipython",
    "version": 3
   },
   "file_extension": ".py",
   "mimetype": "text/x-python",
   "name": "python",
   "nbconvert_exporter": "python",
   "pygments_lexer": "ipython3",
   "version": "3.8.8"
  }
 },
 "nbformat": 4,
 "nbformat_minor": 5
}
