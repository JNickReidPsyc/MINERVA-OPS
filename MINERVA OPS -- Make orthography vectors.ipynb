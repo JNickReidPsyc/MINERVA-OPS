{
 "cells": [
  {
   "cell_type": "code",
   "execution_count": 1,
   "id": "e1eefa7d",
   "metadata": {},
   "outputs": [],
   "source": [
    "# import packages\n",
    "import numpy as np\n",
    "from sklearn.utils.extmath import randomized_svd"
   ]
  },
  {
   "cell_type": "code",
   "execution_count": 2,
   "id": "35c06e70",
   "metadata": {},
   "outputs": [],
   "source": [
    "# function to select second element in a list\n",
    "def sel_second(x):\n",
    "    return x[1]"
   ]
  },
  {
   "cell_type": "code",
   "execution_count": 3,
   "id": "2641a05d",
   "metadata": {},
   "outputs": [],
   "source": [
    "# function to normalize a vector\n",
    "def normalize_vec(x):\n",
    "    if np.sum(x**2)>0:\n",
    "        normed_x = x / np.sqrt(np.sum(x**2))\n",
    "    else:\n",
    "        normed_x = x.copy()\n",
    "    return normed_x"
   ]
  },
  {
   "cell_type": "code",
   "execution_count": 4,
   "id": "f64e3888",
   "metadata": {},
   "outputs": [],
   "source": [
    "# function to normalize all vectors in a matrix\n",
    "def normalize_matrix(mat):\n",
    "    sq_mat = mat**2\n",
    "    sum_sq = np.sum(sq_mat, axis=1)\n",
    "    mag = np.sqrt(sum_sq)\n",
    "    mag[mag == 0] = 1\n",
    "    normed_mat = np.transpose((np.transpose(mat) / mag))\n",
    "    return normed_mat"
   ]
  },
  {
   "cell_type": "code",
   "execution_count": 5,
   "id": "3e7d97fe",
   "metadata": {},
   "outputs": [],
   "source": [
    "# Function to find near neighbors of a word\n",
    "def find_neighbors(x, dic, mat, n=30):\n",
    "    simvec = normalize_vec(mat[dic[x]]) @ np.transpose(normalize_matrix(mat))\n",
    "    sim_list = list(zip([i for i in dic], simvec))\n",
    "    sim_list.sort(key=sel_second, reverse=True)\n",
    "    return sim_list[1:(n+1)]"
   ]
  },
  {
   "cell_type": "code",
   "execution_count": 6,
   "id": "f356c0f9",
   "metadata": {},
   "outputs": [],
   "source": [
    "# Function to find cosine similarity between two words\n",
    "def cosine(word1, word2):\n",
    "    return normalize_vec(ortho_matrix[ortho_dic[word1]]) @ normalize_vec(ortho_matrix[ortho_dic[word2]])"
   ]
  },
  {
   "cell_type": "markdown",
   "id": "c800127b",
   "metadata": {},
   "source": [
    "The word_list.txt file can be downloaded from our OSF page at https://osf.io/6mys9/. It contains the 100,000 most frequent words from the Wikipedia corpus as well as the nonwords used in Simulations 1c and 2c."
   ]
  },
  {
   "cell_type": "code",
   "execution_count": 7,
   "id": "7560af57",
   "metadata": {},
   "outputs": [],
   "source": [
    "# load list of words to make orthographic vectors for\n",
    "with open('word_list.txt', 'r', encoding='utf-8') as f:\n",
    "    word_list = f.readlines()"
   ]
  },
  {
   "cell_type": "code",
   "execution_count": 8,
   "id": "c2ba96a9",
   "metadata": {},
   "outputs": [],
   "source": [
    "# remove all white space before and after words from txt file\n",
    "word_list = [i.strip() for i in word_list]"
   ]
  },
  {
   "cell_type": "code",
   "execution_count": 9,
   "id": "d3f20ed5",
   "metadata": {},
   "outputs": [],
   "source": [
    "#function to extract seriol2 open bigrams with weights\n",
    "def extract_bigrams(word, weights=[1, 0.7, 0.5]):\n",
    "    seriol_word = '*' + word + '*'\n",
    "    bigrams = []\n",
    "    for i in range(0, len(seriol_word)):\n",
    "        for x in range(1, 4):\n",
    "            if (i+x) < len(seriol_word):\n",
    "                bigrams.append((seriol_word[i] + seriol_word[i+x], weights[x-1]))\n",
    "    bigrams = [i for i in bigrams if i[0]!='**']\n",
    "    bigrams.sort(key=sel_second, reverse=True)\n",
    "    return bigrams"
   ]
  },
  {
   "cell_type": "code",
   "execution_count": 10,
   "id": "45e3137e",
   "metadata": {},
   "outputs": [
    {
     "data": {
      "text/plain": [
       "[('*p', 1),\n",
       " ('pi', 1),\n",
       " ('in', 1),\n",
       " ('nk', 1),\n",
       " ('k*', 1),\n",
       " ('*i', 0.7),\n",
       " ('pn', 0.7),\n",
       " ('ik', 0.7),\n",
       " ('n*', 0.7),\n",
       " ('*n', 0.5),\n",
       " ('pk', 0.5),\n",
       " ('i*', 0.5)]"
      ]
     },
     "execution_count": 10,
     "metadata": {},
     "output_type": "execute_result"
    }
   ],
   "source": [
    "# example bigrams for word 'pink'\n",
    "extract_bigrams('pink')"
   ]
  },
  {
   "cell_type": "code",
   "execution_count": 11,
   "id": "a4ff67b0",
   "metadata": {},
   "outputs": [],
   "source": [
    "# find all unique bigrams\n",
    "unique_strings = []\n",
    "for i in word_list:\n",
    "    unique_strings.extend(list(set([x[0] for x in extract_bigrams(i)])))\n",
    "unique_strings = list(set(unique_strings))"
   ]
  },
  {
   "cell_type": "code",
   "execution_count": 12,
   "id": "7ad1e976",
   "metadata": {},
   "outputs": [],
   "source": [
    "# create matrix of zeros to be filled in\n",
    "ortho_matrix = np.zeros((len(word_list), len(unique_strings)), dtype=np.float32)"
   ]
  },
  {
   "cell_type": "code",
   "execution_count": 13,
   "id": "242e5e00",
   "metadata": {},
   "outputs": [],
   "source": [
    "#set up dictionary to index rows of matrix by word\n",
    "ortho_dic = {}\n",
    "for i in range(0, len(word_list)):\n",
    "    ortho_dic[word_list[i]] = i"
   ]
  },
  {
   "cell_type": "code",
   "execution_count": 14,
   "id": "27026a88",
   "metadata": {},
   "outputs": [],
   "source": [
    "#set up dictionary to index columns of matrix by bigram\n",
    "string_dic = {}\n",
    "for i in range(0, len(unique_strings)):\n",
    "    string_dic[unique_strings[i]] = i"
   ]
  },
  {
   "cell_type": "code",
   "execution_count": 15,
   "id": "27981155",
   "metadata": {},
   "outputs": [],
   "source": [
    "# construct word by bigram matrix\n",
    "for i in word_list:\n",
    "    for x in extract_bigrams(i):\n",
    "        ortho_matrix[ortho_dic[i]][string_dic[x[0]]] += x[1] #adds weight for each bigram to matrix"
   ]
  },
  {
   "cell_type": "code",
   "execution_count": 16,
   "id": "c14d1d4d",
   "metadata": {},
   "outputs": [],
   "source": [
    "# Apply Singular Value Decomposition to reduce dimensionality of the matrix\n",
    "ortho_matrix, s, VT = randomized_svd(ortho_matrix, n_components=250)"
   ]
  },
  {
   "cell_type": "code",
   "execution_count": 17,
   "id": "ef7fa481",
   "metadata": {},
   "outputs": [],
   "source": [
    "#normalize vectors in the matrix\n",
    "ortho_matrix = normalize_matrix(ortho_matrix)"
   ]
  },
  {
   "cell_type": "code",
   "execution_count": 18,
   "id": "ed502f16",
   "metadata": {},
   "outputs": [
    {
     "data": {
      "text/plain": [
       "[('paire', 0.8497597),\n",
       " ('pairs', 0.83499545),\n",
       " ('pairc', 0.73929787),\n",
       " ('air', 0.7273965),\n",
       " ('paired', 0.7271911),\n",
       " ('pari', 0.71619946),\n",
       " ('pira', 0.701304),\n",
       " ('pairing', 0.69715226),\n",
       " ('pašić', 0.6848196),\n",
       " ('pai', 0.6691694)]"
      ]
     },
     "execution_count": 18,
     "metadata": {},
     "output_type": "execute_result"
    }
   ],
   "source": [
    "# find orthographic neighbors for a target word\n",
    "find_neighbors('pair', ortho_dic, ortho_matrix, n=10)"
   ]
  },
  {
   "cell_type": "code",
   "execution_count": 19,
   "id": "7bbdf8fa",
   "metadata": {},
   "outputs": [
    {
     "data": {
      "text/plain": [
       "0.7273965"
      ]
     },
     "execution_count": 19,
     "metadata": {},
     "output_type": "execute_result"
    }
   ],
   "source": [
    "# find cosine similarity between two words' orthography vectors\n",
    "cosine('pair', 'air')"
   ]
  },
  {
   "cell_type": "code",
   "execution_count": null,
   "id": "3076ad00",
   "metadata": {},
   "outputs": [],
   "source": []
  }
 ],
 "metadata": {
  "kernelspec": {
   "display_name": "Python 3 (ipykernel)",
   "language": "python",
   "name": "python3"
  },
  "language_info": {
   "codemirror_mode": {
    "name": "ipython",
    "version": 3
   },
   "file_extension": ".py",
   "mimetype": "text/x-python",
   "name": "python",
   "nbconvert_exporter": "python",
   "pygments_lexer": "ipython3",
   "version": "3.11.5"
  }
 },
 "nbformat": 4,
 "nbformat_minor": 5
}
