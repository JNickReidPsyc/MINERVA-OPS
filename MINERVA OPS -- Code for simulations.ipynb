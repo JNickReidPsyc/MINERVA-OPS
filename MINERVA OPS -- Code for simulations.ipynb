{
 "cells": [
  {
   "cell_type": "code",
   "execution_count": 1,
   "id": "29823a55",
   "metadata": {},
   "outputs": [],
   "source": [
    "# Import packages\n",
    "import random\n",
    "import numpy as np\n",
    "import csv\n",
    "import scipy.stats\n",
    "import random"
   ]
  },
  {
   "cell_type": "code",
   "execution_count": 2,
   "id": "d3c3c709",
   "metadata": {},
   "outputs": [],
   "source": [
    "# Functions to select second and third elements in a list\n",
    "def sel_second(x):\n",
    "    return x[1]\n",
    "def sel_third(x):\n",
    "    return x[2]"
   ]
  },
  {
   "cell_type": "code",
   "execution_count": 3,
   "id": "4684f5eb",
   "metadata": {},
   "outputs": [],
   "source": [
    "# Function to normalize a vector\n",
    "def normalize_vec(x):\n",
    "    if np.sum(x**2)>0:\n",
    "        normed_x = x / np.sqrt(np.sum(x**2))\n",
    "    else:\n",
    "        normed_x = x.copy()\n",
    "    return normed_x"
   ]
  },
  {
   "cell_type": "code",
   "execution_count": 4,
   "id": "34273c2f",
   "metadata": {},
   "outputs": [],
   "source": [
    "# Function to normalize all vectors in a matrix\n",
    "def normalize_matrix(mat):\n",
    "    sq_mat = mat**2\n",
    "    sum_sq = np.sum(sq_mat, axis=1)\n",
    "    mag = np.sqrt(sum_sq)\n",
    "    mag[mag == 0] = 1\n",
    "    normed_mat = np.transpose((np.transpose(mat) / mag))\n",
    "    return normed_mat"
   ]
  },
  {
   "cell_type": "markdown",
   "id": "4b36a72c",
   "metadata": {},
   "source": [
    "The txt file for the MINERVA OPS word vectors can be found at our OSF page at https://osf.io/6mys9/"
   ]
  },
  {
   "cell_type": "code",
   "execution_count": 5,
   "id": "bd7928b4",
   "metadata": {},
   "outputs": [],
   "source": [
    "### Load word vectors\n",
    "\n",
    "### Dimensions 0-500 -> Semantic features\n",
    "### Dimensions 500-750 -> Phonological features\n",
    "### Dimensions 750-1000 -> Orthographic features\n",
    "\n",
    "with open('MINERVA OPS word vectors.txt', 'r') as f:\n",
    "    df = f.readlines()\n",
    "    word_matrix = []\n",
    "    word_list = []\n",
    "    for i in df:\n",
    "        dataline = i.strip()\n",
    "        dataline = dataline.split()\n",
    "        word_list.append(dataline[0])\n",
    "        word_matrix.append(np.array(dataline[1:], dtype=np.float32))"
   ]
  },
  {
   "cell_type": "code",
   "execution_count": 6,
   "id": "e2ebb5a6",
   "metadata": {},
   "outputs": [],
   "source": [
    "# create dictionary object to match words to rows in the word matrix\n",
    "word_dic = {}\n",
    "for i in range(0, len(word_list)):\n",
    "    word_dic[word_list[i]] = i"
   ]
  },
  {
   "cell_type": "code",
   "execution_count": 7,
   "id": "f8c617c1",
   "metadata": {},
   "outputs": [],
   "source": [
    "# convert list to numpy matrix\n",
    "word_matrix = np.array(word_matrix, dtype=np.float32)"
   ]
  },
  {
   "cell_type": "code",
   "execution_count": 8,
   "id": "5efd1a41",
   "metadata": {},
   "outputs": [],
   "source": [
    "# function to find a word's neighbors based on semantic, phonological, orthographic, or all features\n",
    "def find_neighbors_by_space(word, word_dic, word_matrix, space='sem', n=30):\n",
    "    if space == 'sem':\n",
    "        target_word = word_matrix[word_dic[word]][:500]\n",
    "        word_space = word_matrix[:, 0:500]\n",
    "    elif space == 'phon':\n",
    "        target_word = word_matrix[word_dic[word]][500:750]\n",
    "        word_space = word_matrix[:, 500:750]\n",
    "    elif space == 'ortho':\n",
    "        target_word = word_matrix[word_dic[word]][750:]\n",
    "        word_space = word_matrix[:, 750:]\n",
    "    elif space == 'all':\n",
    "        target_word = normalize_vec(word_matrix[word_dic[word]].copy())\n",
    "        word_space = word_matrix\n",
    "    word_space = normalize_matrix(word_space)\n",
    "    word_list = [i for i in word_dic]\n",
    "    cos_sim = normalize_vec(target_word) @ np.transpose(word_space)\n",
    "    cos_sim[word_dic[word]] = 0\n",
    "    cos_list = list(zip(word_list, cos_sim))\n",
    "    cos_list.sort(key=sel_second, reverse=True)\n",
    "    return cos_list[:n]"
   ]
  },
  {
   "cell_type": "code",
   "execution_count": 9,
   "id": "380d349f",
   "metadata": {},
   "outputs": [
    {
     "data": {
      "text/plain": [
       "[('pairs', 0.6916034),\n",
       " ('paired', 0.48169488),\n",
       " ('two', 0.461362),\n",
       " ('four', 0.3974639),\n",
       " ('with', 0.394361),\n",
       " ('each', 0.37798312),\n",
       " ('quadruple', 0.37713835),\n",
       " ('three', 0.3730275),\n",
       " ('rows', 0.36585283),\n",
       " ('pairing', 0.36388138)]"
      ]
     },
     "execution_count": 9,
     "metadata": {},
     "output_type": "execute_result"
    }
   ],
   "source": [
    "# find semantic neighbors\n",
    "find_neighbors_by_space('pair', word_dic, word_matrix, space='sem', n=10)"
   ]
  },
  {
   "cell_type": "code",
   "execution_count": 10,
   "id": "9b364d9f",
   "metadata": {},
   "outputs": [
    {
     "data": {
      "text/plain": [
       "[('pear', 1.0),\n",
       " ('pare', 1.0),\n",
       " ('bear', 0.8545575),\n",
       " ('bare', 0.8545575),\n",
       " ('baer', 0.8545575),\n",
       " ('bahr', 0.8545575),\n",
       " ('behr', 0.8545575),\n",
       " ('bair', 0.8545575),\n",
       " ('tear', 0.79489684),\n",
       " ('spare', 0.77105844)]"
      ]
     },
     "execution_count": 10,
     "metadata": {},
     "output_type": "execute_result"
    }
   ],
   "source": [
    "# find phonological neighbors\n",
    "find_neighbors_by_space('pair', word_dic, word_matrix, space='phon', n=10)"
   ]
  },
  {
   "cell_type": "code",
   "execution_count": 11,
   "id": "ac02f0df",
   "metadata": {},
   "outputs": [
    {
     "data": {
      "text/plain": [
       "[('pairs', 0.835551),\n",
       " ('paired', 0.73153305),\n",
       " ('air', 0.728306),\n",
       " ('pairing', 0.69769055),\n",
       " ('pai', 0.66933405),\n",
       " ('repair', 0.6542349),\n",
       " ('impair', 0.63925785),\n",
       " ('phair', 0.6289284),\n",
       " ('pain', 0.6178458),\n",
       " ('mair', 0.59698635)]"
      ]
     },
     "execution_count": 11,
     "metadata": {},
     "output_type": "execute_result"
    }
   ],
   "source": [
    "# find orthographic neighbors\n",
    "find_neighbors_by_space('pair', word_dic, word_matrix, space='ortho', n=10)"
   ]
  },
  {
   "cell_type": "code",
   "execution_count": 12,
   "id": "564f8128",
   "metadata": {},
   "outputs": [
    {
     "data": {
      "text/plain": [
       "[('pairs', 0.6585372),\n",
       " ('paired', 0.54951143),\n",
       " ('pairing', 0.46423393),\n",
       " ('stair', 0.35507977),\n",
       " ('pare', 0.3467536),\n",
       " ('pear', 0.33718985),\n",
       " ('phair', 0.33552745),\n",
       " ('hair', 0.33219868),\n",
       " ('four', 0.33078685),\n",
       " ('repair', 0.3287357)]"
      ]
     },
     "execution_count": 12,
     "metadata": {},
     "output_type": "execute_result"
    }
   ],
   "source": [
    "# find neighbors based on all features\n",
    "find_neighbors_by_space('pair', word_dic, word_matrix, space='all', n=10)"
   ]
  },
  {
   "cell_type": "markdown",
   "id": "e756ca5e",
   "metadata": {},
   "source": [
    "MINERVA functions"
   ]
  },
  {
   "cell_type": "code",
   "execution_count": 13,
   "id": "16e8bd63",
   "metadata": {},
   "outputs": [],
   "source": [
    "# Function to copy word vectors into a memory matrix\n",
    "def make_memory(word_list):\n",
    "    mem_matrix = []\n",
    "    for i in word_list:\n",
    "        mem_matrix.append(word_matrix[word_dic[i]])\n",
    "    mem_matrix = np.array(mem_matrix)\n",
    "    return mem_matrix"
   ]
  },
  {
   "cell_type": "code",
   "execution_count": 14,
   "id": "37be609a",
   "metadata": {},
   "outputs": [],
   "source": [
    "# Function to calculate familiarity for a list of words\n",
    "def echo_intensity(probes, memory, tau=3):\n",
    "    normed_memory = normalize_matrix(memory)\n",
    "    similarities = probes @ np.transpose(normed_memory)\n",
    "    if tau == 2:\n",
    "        activations = similarities*(abs(similarities))\n",
    "    if tau == 4:\n",
    "        activations = similarities*(abs(similarities))*similarities*(abs(similarities))\n",
    "    else:\n",
    "        activations = similarities**tau\n",
    "    activations = np.sum(activations, axis=1)\n",
    "    return activations"
   ]
  },
  {
   "cell_type": "code",
   "execution_count": 15,
   "id": "2c55c757",
   "metadata": {},
   "outputs": [],
   "source": [
    "# Functions to calculate model fits: R-squared, Mean Squared Error, and Mean Absolute Error\n",
    "def r_sq(x, y):\n",
    "    cor = scipy.stats.pearsonr(x, y)\n",
    "    return cor[0]**2\n",
    "\n",
    "def mse(x, y):\n",
    "    return np.sum((x - y)**2) / len(x)\n",
    "\n",
    "def mean_abs_error(x, y):\n",
    "    return np.mean(abs(x-y))"
   ]
  },
  {
   "cell_type": "markdown",
   "id": "c23a4f58",
   "metadata": {},
   "source": [
    "Simulation Exp 1a -- Semantics"
   ]
  },
  {
   "cell_type": "code",
   "execution_count": 16,
   "id": "046e8ba2",
   "metadata": {},
   "outputs": [],
   "source": [
    "# Load stimuli from csv file\n",
    "# csv files with stimuli can be found on our OSF page at https://osf.io/6mys9/\n",
    "df = []\n",
    "with open('Exp 1a -- Semantic Lists.csv', 'r') as f:\n",
    "    csvreader = csv.reader(f, delimiter=',')\n",
    "    for i in csvreader:\n",
    "        df.append(i)"
   ]
  },
  {
   "cell_type": "code",
   "execution_count": 17,
   "id": "29bc20be",
   "metadata": {},
   "outputs": [],
   "source": [
    "# Make all letters in words lowercase\n",
    "for i in range(0, len(df)):\n",
    "    df[i] = [x.lower() for x in df[i]]"
   ]
  },
  {
   "cell_type": "code",
   "execution_count": 18,
   "id": "5d5d6748",
   "metadata": {},
   "outputs": [],
   "source": [
    "#Set up list A for Simulation\n",
    "list_old = []\n",
    "crit_lure = []\n",
    "list_new = []\n",
    "crit_new = []\n",
    "for i in df[1:11]:\n",
    "    cl = i[1].strip()\n",
    "    cl = cl.lower()\n",
    "    crit_lure.append(cl)\n",
    "    for x in i[2:]:\n",
    "        cl = x.strip()\n",
    "        cl = cl.lower()\n",
    "        list_old.append(cl)\n",
    "for i in df[11:]:\n",
    "    cl = i[1].strip()\n",
    "    cl = cl.lower()\n",
    "    crit_new.append(cl)\n",
    "    for x in i[2:]:\n",
    "        cl = x.strip()\n",
    "        cl = cl.lower()\n",
    "        list_new.append(cl)\n",
    "all_items_a = list_old + crit_lure + list_new + crit_new"
   ]
  },
  {
   "cell_type": "code",
   "execution_count": 19,
   "id": "762559e9",
   "metadata": {},
   "outputs": [],
   "source": [
    "#Set up list B for Simulation\n",
    "list_old = []\n",
    "crit_lure = []\n",
    "list_new = []\n",
    "crit_new = []\n",
    "for i in df[11:]:\n",
    "    cl = i[1].strip()\n",
    "    cl = cl.lower()\n",
    "    crit_lure.append(cl)\n",
    "    for x in i[2:]:\n",
    "        cl = x.strip()\n",
    "        cl = cl.lower()\n",
    "        list_old.append(cl)\n",
    "for i in df[1:11]:\n",
    "    cl = i[1].strip()\n",
    "    cl = cl.lower()\n",
    "    crit_new.append(cl)\n",
    "    for x in i[2:]:\n",
    "        cl = x.strip()\n",
    "        cl = cl.lower()\n",
    "        list_new.append(cl)\n",
    "all_items_b = list_old + crit_lure + list_new + crit_new"
   ]
  },
  {
   "cell_type": "code",
   "execution_count": 20,
   "id": "41056571",
   "metadata": {},
   "outputs": [],
   "source": [
    "# Empirical means Exp 1a\n",
    "emp_means = np.array([0.684375, 0.44166667, 0.20069444, 0.23333333])\n",
    "emp_sds = np.array([0.125967, 0.18999813, 0.12762415, 0.17052277])"
   ]
  },
  {
   "cell_type": "code",
   "execution_count": 21,
   "id": "7171aa1c",
   "metadata": {},
   "outputs": [
    {
     "name": "stdout",
     "output_type": "stream",
     "text": [
      "itemtype: ['target list/list item', 'target list/critical lure', 'foil list/list item', 'foil list/critical lure']\n",
      "empirical means:  [0.684375   0.44166667 0.20069444 0.23333333]\n",
      "simulated means:  [0.66456667 0.4974     0.21873333 0.2028    ]\n",
      "simulated SDs:  [0.04466949 0.12973076 0.04420174 0.11534932]\n",
      "R-squared fit:  0.9695535928265042\n",
      "mse fit:  0.0011890650139784568\n"
     ]
    }
   ],
   "source": [
    "# Run simulations\n",
    "\n",
    "l = .06   # Learning rate\n",
    "t = 1   # Retrieval exponent\n",
    "p_old = 43    # Percentage of items to be deemed old\n",
    "\n",
    "sim_list = []   #  create blank list to store data\n",
    "for s in range(0, 1000):  # Run 1000 simulations\n",
    "    if s < 500:\n",
    "        stims = all_items_a.copy() # Use counterbalanced version A for first 500 simulations\n",
    "    else:\n",
    "        stims = all_items_b.copy() # Use counterbalanced version B for last 500 simulations\n",
    "    memory = make_memory(stims[0:60])\n",
    "    memory *= np.random.choice([0, 1], size=(len(memory), len(memory[0])), p=[1-l, l])  # encoding -> multiply memory matrix by a matrix of 1's and 0's with 1's and 0's sampled based on the learning rate (L)\n",
    "    probes = make_memory(stims)  # Set up matrix of probe vectors for retrieval (creates a matrix with word vectors for each to-be-recognized item)\n",
    "    familiarities = echo_intensity(probes, memory, tau=t)  # Compute familiarities for all probes\n",
    "    criterion = np.percentile(familiarities, 100-p_old)   # set criterion based on % old (p_old) parameter\n",
    "    list_rel_hits = np.sum(familiarities[:60] > criterion) / 60    # calculate proportion of correct hits\n",
    "    crit_rel_hits = np.sum(familiarities[60:70] > criterion) / 10   # calculate proportion of false alarms for related critical lures\n",
    "    list_new_hits = np.sum(familiarities[70:130] > criterion) / 60   # calculate proportion of false alarms for unrelated list items\n",
    "    crit_new_hits = np.sum(familiarities[130:140] > criterion) / 10   # calculate proportion of false alarms for unrelated critical lures\n",
    "    sim_list.append([list_rel_hits, crit_rel_hits, list_new_hits, crit_new_hits])  # append simulation results (hits and false alarms by item type) to the data list\n",
    "means = np.mean(sim_list, axis=0)  # calculate means across all simulations\n",
    "sds = np.std(sim_list, axis=0, ddof=1) # calculate standard deviations across all simulations\n",
    "print('itemtype:', ['target list/list item', 'target list/critical lure', 'foil list/list item', 'foil list/critical lure']) # print names of item types\n",
    "print('empirical means: ', emp_means) # print empirical means\n",
    "print('simulated means: ', means) # print simulation means\n",
    "print('simulated SDs: ', sds) # print simulation standard deviations\n",
    "print('R-squared fit: ', r_sq(emp_means, means)) # print R-squared fit\n",
    "print('mse fit: ', mse(emp_means, means)) # print Mean Squared Error fit"
   ]
  },
  {
   "cell_type": "code",
   "execution_count": 22,
   "id": "09176d6f",
   "metadata": {},
   "outputs": [],
   "source": [
    "# Save the empirical and simulation means and standard deviations (to make graphs later)\n",
    "emp_sem_means = emp_means.copy()\n",
    "emp_sem_sds = emp_sds.copy()\n",
    "sim_sem_means = means.copy()\n",
    "sim_sem_sds = sds.copy()"
   ]
  },
  {
   "cell_type": "markdown",
   "id": "afefe729",
   "metadata": {},
   "source": [
    "Simulation Exp 1b -- Phonology"
   ]
  },
  {
   "cell_type": "code",
   "execution_count": 23,
   "id": "99d7bb40",
   "metadata": {},
   "outputs": [],
   "source": [
    "#load stimuli\n",
    "df = []\n",
    "with open('Exp 1b -- Phonological Lists.csv') as f:\n",
    "    csvreader = csv.reader(f)\n",
    "    for line in csvreader:\n",
    "        df.append(line)"
   ]
  },
  {
   "cell_type": "code",
   "execution_count": 24,
   "id": "c9439c56",
   "metadata": {},
   "outputs": [],
   "source": [
    "# set up lists for simulation\n",
    "# splits lists into two halves, one for each counterbalanced version\n",
    "df = df[1:]\n",
    "df_a = df[:10]\n",
    "df_b = df[10:]"
   ]
  },
  {
   "cell_type": "code",
   "execution_count": 25,
   "id": "cade377c",
   "metadata": {},
   "outputs": [],
   "source": [
    "# set up lists for counterbalance version A\n",
    "df_test_list_a = []\n",
    "for i in df_a:\n",
    "    for x in i[1:]:\n",
    "        df_test_list_a.append(x)\n",
    "for i in df_a:\n",
    "    df_test_list_a.append(i[0])\n",
    "for i in df_b:\n",
    "    for x in i[1:]:\n",
    "        df_test_list_a.append(x)\n",
    "for i in df_b:\n",
    "    df_test_list_a.append(i[0])"
   ]
  },
  {
   "cell_type": "code",
   "execution_count": 26,
   "id": "f69dec81",
   "metadata": {},
   "outputs": [],
   "source": [
    "# set up lists for counterbalance version B\n",
    "df_test_list_b = []\n",
    "for i in df_b:\n",
    "    for x in i[1:]:\n",
    "        df_test_list_b.append(x)\n",
    "for i in df_b:\n",
    "    df_test_list_b.append(i[0])\n",
    "for i in df_a:\n",
    "    for x in i[1:]:\n",
    "        df_test_list_b.append(x)\n",
    "for i in df_a:\n",
    "    df_test_list_b.append(i[0])"
   ]
  },
  {
   "cell_type": "code",
   "execution_count": 27,
   "id": "0af5ea19",
   "metadata": {},
   "outputs": [],
   "source": [
    "# Empirical means Exp 1b\n",
    "emp_means = [0.682     , 0.578     , 0.35033333, 0.4]    \n",
    "emp_sds = [0.13971558, 0.17121916, 0.14777949, 0.19493589]"
   ]
  },
  {
   "cell_type": "code",
   "execution_count": 28,
   "id": "bb509d79",
   "metadata": {},
   "outputs": [
    {
     "name": "stdout",
     "output_type": "stream",
     "text": [
      "itemtype: ['target list/list item', 'target list/critical lure', 'foil list/list item', 'foil list/critical lure']\n",
      "empirical means:  [0.682, 0.578, 0.35033333, 0.4]\n",
      "simulated means:  [0.68316667 0.5554     0.34865    0.3537    ]\n",
      "simulated SDs:  [0.05045643 0.15980105 0.04668537 0.14631376]\n",
      "R-squared fit:  0.9839890927391489\n",
      "mse fit:  0.000664661177749975\n"
     ]
    }
   ],
   "source": [
    "# Run simulations\n",
    "\n",
    "l = 0.03   # Learning rate\n",
    "t = 1       # Retrieval exponent\n",
    "p_old = 51   # Percentage of old items\n",
    "sim_list = []\n",
    "for s in range(0, 1000):\n",
    "    if s < 500:\n",
    "        stims = df_test_list_a.copy()\n",
    "    else:\n",
    "        stims = df_test_list_b.copy()\n",
    "    memory = make_memory(stims[0:60])\n",
    "    memory = memory * np.random.choice([0, 1], size=(len(memory), len(memory[0])), p=[1-l, l])\n",
    "    probes = make_memory(stims)\n",
    "    familiarities = echo_intensity(probes, memory, tau=t)\n",
    "    criterion = np.percentile(familiarities, 100-p_old)\n",
    "    old_items = familiarities[0:60]\n",
    "    crit_lure = familiarities[60:70]\n",
    "    unrel_items = familiarities[70:130]\n",
    "    uncrit_items = familiarities[130:140]\n",
    "    old_hits = np.sum(old_items > criterion) / 60\n",
    "    crit_hits = np.sum(crit_lure > criterion) / 10\n",
    "    unrel_hits = np.sum(unrel_items > criterion) / 60\n",
    "    uncrit_hits = np.sum(uncrit_items > criterion) / 10\n",
    "    sim_list.append([old_hits, crit_hits, unrel_hits, uncrit_hits])\n",
    "means = np.mean(sim_list, axis=0)\n",
    "sds = np.std(sim_list, axis=0, ddof=1)\n",
    "print('itemtype:', ['target list/list item', 'target list/critical lure', 'foil list/list item', 'foil list/critical lure'])\n",
    "print('empirical means: ', emp_means)\n",
    "print('simulated means: ', means)\n",
    "print('simulated SDs: ', sds)\n",
    "print('R-squared fit: ', r_sq(emp_means, means))\n",
    "print('mse fit: ', mse(emp_means, means))"
   ]
  },
  {
   "cell_type": "code",
   "execution_count": 29,
   "id": "0ae49902",
   "metadata": {},
   "outputs": [],
   "source": [
    "# save empirical and simulation means and standard deviations (for graphs later)\n",
    "emp_phon_means = emp_means.copy()\n",
    "emp_phon_sds = emp_sds.copy()\n",
    "sim_phon_means = means.copy()\n",
    "sim_phon_sds = sds.copy()"
   ]
  },
  {
   "cell_type": "markdown",
   "id": "09ed3cdb",
   "metadata": {},
   "source": [
    "Simulations Exp 1c -- Nonword orthographic"
   ]
  },
  {
   "cell_type": "code",
   "execution_count": 30,
   "id": "2b845bb1",
   "metadata": {},
   "outputs": [],
   "source": [
    "# load stimuli for counterbalanced version A\n",
    "with open('Exp 1c -- Nonword Orthographic Lists Version A.csv') as f:\n",
    "    test_a = []\n",
    "    for i in csv.reader(f):\n",
    "        test_a.append(i)"
   ]
  },
  {
   "cell_type": "code",
   "execution_count": 31,
   "id": "2d92dfb1",
   "metadata": {},
   "outputs": [],
   "source": [
    "# load stimuli for counterbalanced version B\n",
    "with open('Exp 1c -- Nonword Orthographic Lists Version B.csv') as f:\n",
    "    test_b = []\n",
    "    for i in csv.reader(f):\n",
    "        test_b.append(i)"
   ]
  },
  {
   "cell_type": "code",
   "execution_count": 32,
   "id": "21754424",
   "metadata": {},
   "outputs": [],
   "source": [
    "#function to set up study and test lists\n",
    "def get_stim_list(clean_df):\n",
    "    list_rel = [i[0].lower() for i in clean_df if i[1]=='list_item' and i[2]=='related']\n",
    "    crit_rel = [i[0].lower() for i in clean_df if i[1]=='crit_lure' and i[2]=='related']\n",
    "    list_new = [i[0].lower() for i in clean_df if i[1]=='list_item' and i[2]=='unrelated']\n",
    "    crit_new = [i[0].lower() for i in clean_df if i[1]=='crit_lure' and i[2]=='unrelated']\n",
    "    return list_rel + crit_rel + list_new + crit_new"
   ]
  },
  {
   "cell_type": "code",
   "execution_count": 33,
   "id": "46391be8",
   "metadata": {},
   "outputs": [],
   "source": [
    "# Empirical Means for Exp 1c\n",
    "emp_means = [0.75442177, 0.66734694, 0.3329932 , 0.32653061]\n",
    "emp_sds = [0.13771604, 0.21033283, 0.17134554, 0.18044787]"
   ]
  },
  {
   "cell_type": "code",
   "execution_count": 34,
   "id": "f3ef01a6",
   "metadata": {},
   "outputs": [
    {
     "name": "stdout",
     "output_type": "stream",
     "text": [
      "itemtype: ['target list/list item', 'target list/critical lure', 'foil list/list item', 'foil list/critical lure']\n",
      "empirical means:  [0.75442177, 0.66734694, 0.3329932, 0.32653061]\n",
      "simulated means:  [0.74395    0.7128     0.34601667 0.3474    ]\n",
      "simulated SDs:  [0.06891284 0.12046025 0.06909145 0.12209893]\n",
      "R-squared fit:  0.9893208040504505\n",
      "mse fit:  0.0006951951883216007\n"
     ]
    }
   ],
   "source": [
    "# Run simulations\n",
    "\n",
    "l = 0.02  # Learning rate\n",
    "t = 1       # Retrieval exponent\n",
    "p_old = 54    # Percentage of items to be deemed old\n",
    "sim_list = []\n",
    "for s in range(0, 1000):\n",
    "    if s < 500:\n",
    "        stims = get_stim_list(test_a)\n",
    "    else:\n",
    "        stims = get_stim_list(test_b)\n",
    "    memory = make_memory(stims[0:60])\n",
    "    memory *= np.random.choice([0, 1], size=(len(memory), len(memory[0])), p=[1-l, l])\n",
    "    probes = make_memory(stims)\n",
    "    familiarities = echo_intensity(probes, memory, tau=t)\n",
    "    criterion = np.percentile(familiarities, 100-p_old)\n",
    "    list_rel_hits = np.sum(familiarities[:60] > criterion) / 60\n",
    "    crit_rel_hits = np.sum(familiarities[60:70] > criterion) / 10\n",
    "    list_new_hits = np.sum(familiarities[70:130] > criterion) / 60\n",
    "    crit_new_hits = np.sum(familiarities[130:140] > criterion) / 10\n",
    "    sim_list.append([list_rel_hits, crit_rel_hits, list_new_hits, crit_new_hits])\n",
    "means = np.mean(sim_list, axis=0)\n",
    "sds = np.std(sim_list, axis=0, ddof=1)\n",
    "print('itemtype:', ['target list/list item', 'target list/critical lure', 'foil list/list item', 'foil list/critical lure'])\n",
    "print('empirical means: ', emp_means)\n",
    "print('simulated means: ', means)\n",
    "print('simulated SDs: ', sds)\n",
    "print('R-squared fit: ', r_sq(emp_means, means))\n",
    "print('mse fit: ', mse(emp_means, means))"
   ]
  },
  {
   "cell_type": "code",
   "execution_count": 35,
   "id": "6b0a36ff",
   "metadata": {},
   "outputs": [],
   "source": [
    "# Save empirical and simulation means and standard deviations\n",
    "emp_ortho_means = emp_means.copy()\n",
    "emp_ortho_sds = emp_sds.copy()\n",
    "sim_ortho_means = means.copy()\n",
    "sim_ortho_sds = sds.copy()"
   ]
  },
  {
   "cell_type": "markdown",
   "id": "880abf5b",
   "metadata": {},
   "source": [
    "Calculate overall fits for Exp 1"
   ]
  },
  {
   "cell_type": "code",
   "execution_count": 36,
   "id": "e124be07",
   "metadata": {},
   "outputs": [],
   "source": [
    "exp_1_all_emp = np.concatenate((emp_sem_means, emp_phon_means, emp_ortho_means)) # make vector with all empirical means from Exp1a-c\n",
    "exp_1_all_sim = np.concatenate((sim_sem_means, sim_phon_means, sim_ortho_means)) # make vector with all simulation means from Exp1a-c"
   ]
  },
  {
   "cell_type": "code",
   "execution_count": 37,
   "id": "94f10167",
   "metadata": {},
   "outputs": [
    {
     "name": "stdout",
     "output_type": "stream",
     "text": [
      "R-squared fit overall:  0.9757435921930468\n"
     ]
    }
   ],
   "source": [
    "## compute R-squared fit for all Exp 1\n",
    "print('R-squared fit overall: ', r_sq(exp_1_all_emp, exp_1_all_sim))"
   ]
  },
  {
   "cell_type": "code",
   "execution_count": 38,
   "id": "c23be92f",
   "metadata": {},
   "outputs": [
    {
     "name": "stdout",
     "output_type": "stream",
     "text": [
      "Mean Squared Error fit overall:  0.0008496404600166775\n"
     ]
    }
   ],
   "source": [
    "## compute mean squared error fit for all Exp 1\n",
    "print('Mean Squared Error fit overall: ', mse(exp_1_all_emp, exp_1_all_sim))"
   ]
  },
  {
   "cell_type": "markdown",
   "id": "2397f202",
   "metadata": {},
   "source": [
    "Display Graphs for Exp 1"
   ]
  },
  {
   "cell_type": "code",
   "execution_count": 39,
   "id": "7eb13e42",
   "metadata": {},
   "outputs": [],
   "source": [
    "import matplotlib.pyplot as plt\n",
    "%matplotlib inline"
   ]
  },
  {
   "cell_type": "code",
   "execution_count": 40,
   "id": "d5dd3ecb",
   "metadata": {},
   "outputs": [],
   "source": [
    "labels = ['target list\\nlist item', 'target list\\ncritical lure', 'foil list\\nlist item', 'foil list\\ncritical lure']\n",
    "x_pos = np.arange(len(labels))"
   ]
  },
  {
   "cell_type": "code",
   "execution_count": 41,
   "id": "162d0091",
   "metadata": {},
   "outputs": [
    {
     "data": {
      "image/png": "[encoded data removed]",
      "text/plain": [
       "<Figure size 1200x2000 with 6 Axes>"
      ]
     },
     "metadata": {},
     "output_type": "display_data"
    }
   ],
   "source": [
    "fig, ax = plt.subplots(3, 2)\n",
    "fig.tight_layout()\n",
    "\n",
    "plt.setp(ax, ylim=(0, 1))\n",
    "\n",
    "ax[0, 0].bar(x_pos, emp_sem_means,\n",
    "       yerr=emp_sem_sds,\n",
    "       align='center',\n",
    "       alpha=0.5,\n",
    "       ecolor='black',\n",
    "       capsize=10)\n",
    "ax[0, 0].set_ylabel('Proportion OLD')\n",
    "ax[0, 0].set_xticks(x_pos)\n",
    "ax[0, 0].set_xticklabels(labels)\n",
    "ax[0, 0].set_title('Exp 1a: Empirical Semantic')\n",
    "ax[0, 0].yaxis.grid(True)\n",
    "\n",
    "\n",
    "ax[0, 1].bar(x_pos, sim_sem_means,\n",
    "       yerr=sim_sem_sds,\n",
    "       align='center',\n",
    "       alpha=0.5,\n",
    "       ecolor='black',\n",
    "       capsize=10)\n",
    "ax[0, 1].set_ylabel('Proportion OLD')\n",
    "ax[0, 1].set_xticks(x_pos)\n",
    "ax[0, 1].set_xticklabels(labels)\n",
    "ax[0, 1].set_title('Exp 1a: Simulated Semantic')\n",
    "ax[0, 1].yaxis.grid(True)\n",
    "\n",
    "\n",
    "ax[1, 0].bar(x_pos, emp_phon_means,\n",
    "       yerr=emp_phon_sds,\n",
    "       align='center',\n",
    "       alpha=0.5,\n",
    "       ecolor='black',\n",
    "       capsize=10)\n",
    "ax[1, 0].set_ylabel('Proportion OLD')\n",
    "ax[1, 0].set_xticks(x_pos)\n",
    "ax[1, 0].set_xticklabels(labels)\n",
    "ax[1, 0].set_title('Exp 1b: Empirical Phonology')\n",
    "ax[1, 0].yaxis.grid(True)\n",
    "\n",
    "\n",
    "ax[1, 1].bar(x_pos, sim_phon_means,\n",
    "       yerr=sim_phon_sds,\n",
    "       align='center',\n",
    "       alpha=0.5,\n",
    "       ecolor='black',\n",
    "       capsize=10)\n",
    "ax[1, 1].set_ylabel('Proportion OLD')\n",
    "ax[1, 1].set_xticks(x_pos)\n",
    "ax[1, 1].set_xticklabels(labels)\n",
    "ax[1, 1].set_title('Exp 1b: Simulated Phonology')\n",
    "ax[1, 1].yaxis.grid(True)\n",
    "\n",
    "ax[2, 0].bar(x_pos, emp_ortho_means,\n",
    "       yerr=emp_ortho_sds,\n",
    "       align='center',\n",
    "       alpha=0.5,\n",
    "       ecolor='black',\n",
    "       capsize=10)\n",
    "ax[2, 0].set_ylabel('Proportion OLD')\n",
    "ax[2, 0].set_xticks(x_pos)\n",
    "ax[2, 0].set_xticklabels(labels)\n",
    "ax[2, 0].set_title('Exp 1c: Empirical Orthography')\n",
    "ax[2, 0].yaxis.grid(True)\n",
    "\n",
    "\n",
    "ax[2, 1].bar(x_pos, sim_ortho_means,\n",
    "       yerr=sim_ortho_sds,\n",
    "       align='center',\n",
    "       alpha=0.5,\n",
    "       ecolor='black',\n",
    "       capsize=10)\n",
    "ax[2, 1].set_ylabel('Proportion OLD')\n",
    "ax[2, 1].set_xticks(x_pos)\n",
    "ax[2, 1].set_xticklabels(labels)\n",
    "ax[2, 1].set_title('Exp 1c: Simulated Orthography')\n",
    "ax[2, 1].yaxis.grid(True)\n",
    "\n",
    "fig.set_size_inches(12, 20, forward=True)"
   ]
  },
  {
   "cell_type": "code",
   "execution_count": 42,
   "id": "fcf2f9fd",
   "metadata": {},
   "outputs": [
    {
     "name": "stdout",
     "output_type": "stream",
     "text": [
      "R-squared fit overall:  0.9757435921930468\n"
     ]
    },
    {
     "data": {
      "image/png": "[encoded data removed]",
      "text/plain": [
       "<Figure size 640x480 with 1 Axes>"
      ]
     },
     "metadata": {},
     "output_type": "display_data"
    }
   ],
   "source": [
    "# Display scatterplot\n",
    "print('R-squared fit overall: ', r_sq(exp_1_all_emp, exp_1_all_sim))\n",
    "plt.scatter(exp_1_all_emp, exp_1_all_sim)\n",
    "plt.plot(np.unique(exp_1_all_emp), np.poly1d(np.polyfit(exp_1_all_emp, exp_1_all_sim, 1))(np.unique(exp_1_all_emp)))\n",
    "plt.xlabel(\"Empirical Means\")\n",
    "plt.ylabel(\"Simulated Means\")\n",
    "plt.show()"
   ]
  },
  {
   "cell_type": "markdown",
   "id": "04feb30f",
   "metadata": {},
   "source": [
    "Simulation 2a -- Directed Forgetting with Semantic Lists"
   ]
  },
  {
   "cell_type": "code",
   "execution_count": 43,
   "id": "f1354923",
   "metadata": {},
   "outputs": [],
   "source": [
    "# Load stimuli\n",
    "df = []\n",
    "with open('Exp 2a -- Directed Forgetting Semantic Lists.csv', 'r') as f:\n",
    "    for i in csv.reader(f):\n",
    "        df.append(i)"
   ]
  },
  {
   "cell_type": "code",
   "execution_count": 44,
   "id": "a67e1e82",
   "metadata": {},
   "outputs": [],
   "source": [
    "# Set up stimuli into python lists\n",
    "df_words = []\n",
    "for i in df:\n",
    "    df_words.append(i[1].split(', '))"
   ]
  },
  {
   "cell_type": "code",
   "execution_count": 45,
   "id": "b16afa43",
   "metadata": {},
   "outputs": [],
   "source": [
    "# Remove spaces for two-word items (e.g., \"root beer\" -> \"rootbeer\")\n",
    "def remove_spaces(x):\n",
    "    return \"\".join([i for i in x if i!=' '])"
   ]
  },
  {
   "cell_type": "code",
   "execution_count": 46,
   "id": "699904fe",
   "metadata": {},
   "outputs": [],
   "source": [
    "# List of items to be substituted \n",
    "# Substitutes are for words not found in the Wikipedia corpus\n",
    "subs = {'electric slide':'charleston'}"
   ]
  },
  {
   "cell_type": "code",
   "execution_count": 47,
   "id": "86248012",
   "metadata": {},
   "outputs": [],
   "source": [
    "# Go through stimuli and replace missing words with substitutes\n",
    "for i in range(0, len(df_words)):\n",
    "    for x in range(0, len(df_words[i])):\n",
    "        if df_words[i][x] not in word_dic:\n",
    "            if remove_spaces(df_words[i][x]) not in word_dic:\n",
    "                df_words[i][x] = subs[df_words[i][x]]\n",
    "            else:\n",
    "                df_words[i][x] = remove_spaces(df_words[i][x])"
   ]
  },
  {
   "cell_type": "code",
   "execution_count": 48,
   "id": "f0f89a7a",
   "metadata": {},
   "outputs": [],
   "source": [
    "# Set up stimuli for counterbalance version A\n",
    "stims_a = []\n",
    "for i in df_words[:6]:\n",
    "    stims_a.extend(i[:6])\n",
    "for i in df_words[6:12]:\n",
    "    stims_a.extend(i[:6])\n",
    "for i in df_words[:6]:\n",
    "    stims_a.extend(i[6:])\n",
    "for i in df_words[6:12]:\n",
    "    stims_a.extend(i[6:])\n",
    "for i in df_words[12:24]:\n",
    "    stims_a.extend(i[:3])"
   ]
  },
  {
   "cell_type": "code",
   "execution_count": 49,
   "id": "bbd70789",
   "metadata": {},
   "outputs": [],
   "source": [
    "# Set up stimuli for counterbalance version B\n",
    "stims_b = []\n",
    "for i in df_words[6:12]:\n",
    "    stims_b.extend(i[:6])\n",
    "for i in df_words[:6]:\n",
    "    stims_b.extend(i[:6])\n",
    "for i in df_words[6:12]:\n",
    "    stims_b.extend(i[6:])\n",
    "for i in df_words[:6]:\n",
    "    stims_b.extend(i[6:])\n",
    "for i in df_words[12:24]:\n",
    "    stims_b.extend(i[:3])"
   ]
  },
  {
   "cell_type": "code",
   "execution_count": 50,
   "id": "a9ac7419",
   "metadata": {},
   "outputs": [],
   "source": [
    "# Set up stimuli for counterbalance version C\n",
    "stims_c = []\n",
    "for i in df_words[12:18]:\n",
    "    stims_c.extend(i[:6])\n",
    "for i in df_words[18:]:\n",
    "    stims_c.extend(i[:6])\n",
    "for i in df_words[12:18]:\n",
    "    stims_c.extend(i[6:])\n",
    "for i in df_words[18:]:\n",
    "    stims_c.extend(i[6:])\n",
    "for i in df_words[:12]:\n",
    "    stims_c.extend(i[:3])"
   ]
  },
  {
   "cell_type": "code",
   "execution_count": 51,
   "id": "f5fb1c13",
   "metadata": {},
   "outputs": [],
   "source": [
    "# Set up stimuli for counterbalance version D\n",
    "stims_d = []\n",
    "for i in df_words[18:]:\n",
    "    stims_d.extend(i[:6])\n",
    "for i in df_words[12:18]:\n",
    "    stims_d.extend(i[:6])\n",
    "for i in df_words[18:]:\n",
    "    stims_d.extend(i[6:])\n",
    "for i in df_words[12:18]:\n",
    "    stims_d.extend(i[6:])\n",
    "for i in df_words[:12]:\n",
    "    stims_d.extend(i[:3])"
   ]
  },
  {
   "cell_type": "code",
   "execution_count": 52,
   "id": "7acae530",
   "metadata": {},
   "outputs": [],
   "source": [
    "# Empirical means for Exp 2a (From Montagliani & Hockley, 2019, Canadian Journal of Experimental Psychology)\n",
    "emp_means = np.array([.842, .62, .268, .193, .122])\n",
    "emp_sds = np.array([0.024, 0.038, 0.035, 0.035, 0.023])*np.sqrt(26)"
   ]
  },
  {
   "cell_type": "code",
   "execution_count": 53,
   "id": "831de9d0",
   "metadata": {},
   "outputs": [
    {
     "name": "stdout",
     "output_type": "stream",
     "text": [
      "itemtype: ['R old', 'F old', 'R related', 'F related', 'Unrelated']\n",
      "Empirical means:  [0.842 0.62  0.268 0.193 0.122]\n",
      "Simulated means:  [0.80197222 0.60788889 0.35205556 0.27805556 0.06675   ]\n",
      "Simulated SDs:  [0.06357166 0.0682032  0.07756678 0.06750518 0.02391685]\n",
      "R-squared fit:  0.9538651722258106\n",
      "mse_fit:  0.0038202496913582523\n"
     ]
    }
   ],
   "source": [
    "# Run simulations\n",
    "\n",
    "r = 0.9   # learning rate for R-cued items\n",
    "f = 0.6   # learning rate for F-cued items\n",
    "t = 1       # Retrieval exponent\n",
    "p_old = 45    # Percentage of items to be deemed old\n",
    "sim_list = []\n",
    "for s in range(0, 1000):\n",
    "    if s < 250:\n",
    "        stims = stims_a # simulations 0-250 with counterbalanced version A\n",
    "    elif s < 500:\n",
    "        stims = stims_b # simulations 250-500 with counterbalanced version B\n",
    "    elif s < 750:\n",
    "        stims = stims_c # simulations 500-750 with counterbalanced version C\n",
    "    else:\n",
    "        stims = stims_d # simulations 750-1000 with counterbalanced version C\n",
    "    memory = make_memory(stims[0:72])\n",
    "    memory[:36] *= np.random.choice([0, 1], size=(36, len(memory[0])), p=[1-r, r]) # encoding for R-cued items -> based on R-cued learning rate\n",
    "    memory[36:] *= np.random.choice([0, 1], size=(36, len(memory[0])), p=[1-f, f]) # encoding for F-cued items -> based on F-cued learning rate\n",
    "    probes = make_memory(stims)\n",
    "    familiarities = echo_intensity(probes, memory, tau=t)\n",
    "    criterion = np.percentile(familiarities, 100-p_old)\n",
    "    r_hits = np.sum(familiarities[:36] > criterion) / 36 # calculate proportion of hits for R old items\n",
    "    f_hits = np.sum(familiarities[36:72] > criterion) / 36 # calculate proportion of hits for F old items\n",
    "    r_fa = np.sum(familiarities[72:90] > criterion) / 18 # calculate proportion of false alarms for R related items\n",
    "    f_fa = np.sum(familiarities[90:108] > criterion) / 18 # calculate proportion of false alarms for F related items\n",
    "    new_fa = np.sum(familiarities[108:144] > criterion) / 36 # calculate proportion of false alarms for Unrelated items\n",
    "    sim_list.append([r_hits, f_hits, r_fa, f_fa, new_fa])\n",
    "means = np.mean(sim_list, axis=0)\n",
    "sds = np.std(sim_list, axis=0, ddof=1)\n",
    "print('itemtype:', ['R old', 'F old', 'R related', 'F related', 'Unrelated'])\n",
    "print('Empirical means: ', emp_means)\n",
    "print('Simulated means: ', means)\n",
    "print('Simulated SDs: ', sds)\n",
    "print('R-squared fit: ', r_sq(emp_means, means))\n",
    "print('mse_fit: ', mse(emp_means, means))"
   ]
  },
  {
   "cell_type": "code",
   "execution_count": 54,
   "id": "88fd863f",
   "metadata": {},
   "outputs": [],
   "source": [
    "# Save simulated and empirical means for Exp 2a (for graphs later)\n",
    "sem_sim = means.copy()\n",
    "sem_emp = emp_means.copy()\n",
    "sem_sim_sds = sds.copy()\n",
    "sem_emp_sds = emp_sds.copy()"
   ]
  },
  {
   "cell_type": "markdown",
   "id": "09d2d7e7",
   "metadata": {},
   "source": [
    "Simulation 2b -- Directed Forgetting with Phonological Lists"
   ]
  },
  {
   "cell_type": "code",
   "execution_count": 55,
   "id": "3eae2769",
   "metadata": {},
   "outputs": [],
   "source": [
    "# Load stimuli\n",
    "with open('Exp 2b -- Directed Forgetting Phonological Lists.csv', 'r') as f:\n",
    "    df = []\n",
    "    for i in csv.reader(f):\n",
    "        df.append(i[0])"
   ]
  },
  {
   "cell_type": "code",
   "execution_count": 56,
   "id": "1ad21d4a",
   "metadata": {},
   "outputs": [],
   "source": [
    "# set up stimuli into Python lists\n",
    "p_lists = []\n",
    "for i in df:\n",
    "    linewords = i.split(', ')\n",
    "    p_lists.append(linewords)"
   ]
  },
  {
   "cell_type": "code",
   "execution_count": 57,
   "id": "7d3ef38d",
   "metadata": {},
   "outputs": [],
   "source": [
    "# Exp 2b uses randomized presentation rather than counterbalancing\n",
    "# This is a function to randomize lists and items\n",
    "def randomize_lists(lists):\n",
    "    stims = lists.copy()\n",
    "    random.shuffle(stims)\n",
    "    r_old = []\n",
    "    f_old = []\n",
    "    r_new = []\n",
    "    f_new = []\n",
    "    new_new = []\n",
    "    for i in stims[:6]:\n",
    "        shuffled = i.copy()\n",
    "        random.shuffle(shuffled)\n",
    "        for x in shuffled[:6]:\n",
    "            r_old.append(x)\n",
    "        for x in shuffled[6:9]:\n",
    "            r_new.append(x)\n",
    "    for i in stims[6:12]:\n",
    "        shuffled = i.copy()\n",
    "        random.shuffle(shuffled)\n",
    "        for x in shuffled[:6]:\n",
    "            f_old.append(x)\n",
    "        for x in shuffled[6:9]:\n",
    "            f_new.append(x)\n",
    "    for i in stims[12:]:\n",
    "        shuffled = i.copy()\n",
    "        random.shuffle(shuffled)\n",
    "        for x in shuffled[:3]:\n",
    "            new_new.append(x)\n",
    "    return r_old + f_old + r_new + f_new + new_new"
   ]
  },
  {
   "cell_type": "code",
   "execution_count": 58,
   "id": "91e7c252",
   "metadata": {},
   "outputs": [],
   "source": [
    "# Empirical means and SDs for Exp 2b\n",
    "emp_means = np.array([0.68027211, 0.50226757, 0.41156463, 0.34807256, 0.28684807])\n",
    "emp_sds = np.array([0.12540091, 0.20085631, 0.19899386, 0.21539737, 0.20494056])"
   ]
  },
  {
   "cell_type": "code",
   "execution_count": 59,
   "id": "b50e20c3",
   "metadata": {},
   "outputs": [
    {
     "name": "stdout",
     "output_type": "stream",
     "text": [
      "itemtype: ['R old', 'F old', 'R related', 'F related', 'Unrelated']\n",
      "Empirical means:  [0.68027211 0.50226757 0.41156463 0.34807256 0.28684807]\n",
      "Simulated means:  [0.62863889 0.509      0.47888889 0.40422222 0.25413889]\n",
      "Simulated SDs:  [0.0872802  0.08886831 0.12131441 0.11772423 0.07874809]\n",
      "R-squared fit:  0.8841702697934776\n",
      "mse_fit:  0.0022933092135162354\n"
     ]
    }
   ],
   "source": [
    "# Run simulations\n",
    "\n",
    "r = 0.02\n",
    "f = 0.01\n",
    "t = 1\n",
    "p_old = 46\n",
    "\n",
    "sim_list = []\n",
    "for s in range(0, 1000):\n",
    "    stims = randomize_lists(p_lists)\n",
    "    memory = make_memory(stims[0:72])\n",
    "    memory[:36] *= np.random.choice([0, 1], size=(36, len(memory[0])), p=[1-r, r])\n",
    "    memory[36:] *= np.random.choice([0, 1], size=(36, len(memory[0])), p=[1-f, f])\n",
    "    probes = make_memory(stims)\n",
    "    familiarities = echo_intensity(probes, memory, tau=t)\n",
    "    criterion = np.percentile(familiarities, 100-p_old)\n",
    "    r_hits = np.sum(familiarities[:36] > criterion) / 36\n",
    "    f_hits = np.sum(familiarities[36:72] > criterion) / 36\n",
    "    r_fa = np.sum(familiarities[72:90] > criterion) / 18\n",
    "    f_fa = np.sum(familiarities[90:108] > criterion) / 18\n",
    "    new_fa = np.sum(familiarities[108:144] > criterion) / 36\n",
    "    sim_list.append([r_hits, f_hits, r_fa, f_fa, new_fa])\n",
    "means = np.mean(sim_list, axis=0)\n",
    "sds = np.std(sim_list, axis=0, ddof=1)\n",
    "print('itemtype:', ['R old', 'F old', 'R related', 'F related', 'Unrelated'])\n",
    "print('Empirical means: ', emp_means)\n",
    "print('Simulated means: ', means)\n",
    "print('Simulated SDs: ', sds)\n",
    "print('R-squared fit: ', r_sq(emp_means, means))\n",
    "print('mse_fit: ', mse(emp_means, means))"
   ]
  },
  {
   "cell_type": "code",
   "execution_count": 60,
   "id": "2a4761b2",
   "metadata": {},
   "outputs": [],
   "source": [
    "# Save empirical and simulated means and SDs for Exp 2b\n",
    "phon_sim = means.copy()\n",
    "phon_emp = emp_means.copy()\n",
    "phon_sim_sds = sds.copy()\n",
    "phon_emp_sds = emp_sds.copy()"
   ]
  },
  {
   "cell_type": "markdown",
   "id": "77d4e45d",
   "metadata": {},
   "source": [
    "Simulation 2c -- Directed Forgetting with Nonword Orthographic Lists"
   ]
  },
  {
   "cell_type": "code",
   "execution_count": 61,
   "id": "92efdf63",
   "metadata": {},
   "outputs": [],
   "source": [
    "# load stimuli for Counterbalanced version A\n",
    "test_a = []\n",
    "with open('Exp 2c -- Directed Forgetting Nonword Orthographic Lists -- Version A.csv', 'r') as f:\n",
    "    csvreader = csv.reader(f)\n",
    "    for i in csvreader:\n",
    "        test_a.append(i)"
   ]
  },
  {
   "cell_type": "code",
   "execution_count": 62,
   "id": "95da5b15",
   "metadata": {},
   "outputs": [],
   "source": [
    "# load stimuli for Counterbalanced version B\n",
    "test_b = []\n",
    "with open('Exp 2c -- Directed Forgetting Nonword Orthographic Lists -- Version B.csv', 'r') as f:\n",
    "    csvreader = csv.reader(f)\n",
    "    for i in csvreader:\n",
    "        test_b.append(i)"
   ]
  },
  {
   "cell_type": "code",
   "execution_count": 63,
   "id": "014d838f",
   "metadata": {},
   "outputs": [],
   "source": [
    "# load stimuli for Counterbalanced version C\n",
    "test_c = []\n",
    "with open('Exp 2c -- Directed Forgetting Nonword Orthographic Lists -- Version C.csv', 'r') as f:\n",
    "    csvreader = csv.reader(f)\n",
    "    for i in csvreader:\n",
    "        test_c.append(i)"
   ]
  },
  {
   "cell_type": "code",
   "execution_count": 64,
   "id": "905819eb",
   "metadata": {},
   "outputs": [],
   "source": [
    "# load stimuli for Counterbalanced version D\n",
    "test_d = []\n",
    "with open('Exp 2c -- Directed Forgetting Nonword Orthographic Lists -- Version D.csv', 'r') as f:\n",
    "    csvreader = csv.reader(f)\n",
    "    for i in csvreader:\n",
    "        test_d.append(i)"
   ]
  },
  {
   "cell_type": "code",
   "execution_count": 65,
   "id": "03678369",
   "metadata": {},
   "outputs": [],
   "source": [
    "# function to set up stimuli list for running simulation\n",
    "def get_stim_list(df):\n",
    "    clean_df = df[1:]\n",
    "    r_old = [i[1].lower() for i in clean_df if i[2]=='R' and i[4]=='old']\n",
    "    f_old = [i[1].lower() for i in clean_df if i[2]=='F' and i[4]=='old']\n",
    "    r_new = [i[1].lower() for i in clean_df if i[2]=='R' and i[4]=='new']\n",
    "    f_new = [i[1].lower() for i in clean_df if i[2]=='F' and i[4]=='new']\n",
    "    new_new = [i[1].lower() for i in clean_df if i[2]=='New' and i[4]=='new']\n",
    "    return r_old + f_old + r_new + f_new + new_new"
   ]
  },
  {
   "cell_type": "code",
   "execution_count": 66,
   "id": "b6fa3f6c",
   "metadata": {},
   "outputs": [],
   "source": [
    "# Empirical Means and SDs (from Reid, Yang, and Jamieson, 2023, Exp 1, Memory & Cognition)\n",
    "emp_means = np.array([0.72619048, 0.52947846, 0.61111111, 0.42630385, 0.16326531])\n",
    "emp_sds = np.array([0.18530089, 0.25366451, 0.21960262, 0.24932722, 0.15514088])"
   ]
  },
  {
   "cell_type": "code",
   "execution_count": 67,
   "id": "1e229c9e",
   "metadata": {},
   "outputs": [
    {
     "name": "stdout",
     "output_type": "stream",
     "text": [
      "itemtype: ['R old', 'F old', 'R related', 'F related', 'Unrelated']\n",
      "Empirical means:  [0.72619048 0.52947846 0.61111111 0.42630385 0.16326531]\n",
      "Simulated means:  [0.7105     0.51227778 0.64433333 0.45622222 0.14361111]\n",
      "Simulated SDs:  [0.10899128 0.11823272 0.12897729 0.12812001 0.07196435]\n",
      "R-squared fit:  0.9855110765719806\n",
      "mse_fit:  0.0005854334570283015\n"
     ]
    }
   ],
   "source": [
    "# Run simulations\n",
    "\n",
    "l = .06\n",
    "f = .03\n",
    "t = 1 \n",
    "p_old = 48\n",
    "\n",
    "sim_list = []\n",
    "for s in range(0, 1000):\n",
    "    if s <= 250:\n",
    "        stims = get_stim_list(test_a)\n",
    "    elif s <= 500:\n",
    "        stims = get_stim_list(test_b)\n",
    "    elif s <= 750:\n",
    "        stims = get_stim_list(test_c)\n",
    "    else:\n",
    "        stims = get_stim_list(test_d)\n",
    "    memory = make_memory(stims[0:72])\n",
    "    memory[0:36] = memory[0:36] * np.random.choice([0, 1], size=(36, len(memory[0])), p=[1-l, l])\n",
    "    memory[36:72] = memory[36:72] * np.random.choice([0, 1], size=(36, len(memory[0])), p=[1-f, f])\n",
    "    probes = make_memory(stims)\n",
    "    familiarities = echo_intensity(probes, memory, tau=t)\n",
    "    criterion = np.percentile(familiarities, 100-p_old)\n",
    "    r_hits = np.sum(familiarities[:36] > criterion) / 36\n",
    "    f_hits = np.sum(familiarities[36:72] > criterion) / 36\n",
    "    r_fa = np.sum(familiarities[72:90] > criterion) / 18\n",
    "    f_fa = np.sum(familiarities[90:108] > criterion) / 18\n",
    "    new_fa = np.sum(familiarities[108:144] > criterion) / 36\n",
    "    sim_list.append([r_hits, f_hits, r_fa, f_fa, new_fa])\n",
    "means = np.mean(sim_list, axis=0)\n",
    "sds = np.std(sim_list, axis=0, ddof=1)\n",
    "print('itemtype:', ['R old', 'F old', 'R related', 'F related', 'Unrelated'])\n",
    "print('Empirical means: ', emp_means)\n",
    "print('Simulated means: ', means)\n",
    "print('Simulated SDs: ', sds)\n",
    "print('R-squared fit: ', r_sq(emp_means, means))\n",
    "print('mse_fit: ', mse(emp_means, means))"
   ]
  },
  {
   "cell_type": "code",
   "execution_count": 68,
   "id": "2ad0d544",
   "metadata": {},
   "outputs": [],
   "source": [
    "# save empirical and simulated means and SDs for Exp 2c\n",
    "ortho_sim = means.copy()\n",
    "ortho_emp = emp_means.copy()\n",
    "ortho_sim_sds = sds.copy()\n",
    "ortho_emp_sds = emp_sds.copy()"
   ]
  },
  {
   "cell_type": "markdown",
   "id": "0b3c67d6",
   "metadata": {},
   "source": [
    "Calculate fits across Experiment 2"
   ]
  },
  {
   "cell_type": "code",
   "execution_count": 69,
   "id": "371aab26",
   "metadata": {},
   "outputs": [],
   "source": [
    "all_sim = np.concatenate((sem_sim, phon_sim, ortho_sim)) # create vector with all empirical means from Exp 2a-c\n",
    "all_emp = np.concatenate((sem_emp, phon_emp, ortho_emp)) # create vector with all simulated means from Exp 2a-c"
   ]
  },
  {
   "cell_type": "code",
   "execution_count": 70,
   "id": "bded12f0",
   "metadata": {},
   "outputs": [
    {
     "name": "stdout",
     "output_type": "stream",
     "text": [
      "R-squared fit:  0.952220819001258\n"
     ]
    }
   ],
   "source": [
    "### Calculate R-squared fit\n",
    "print('R-squared fit: ', r_sq(all_sim, all_emp))"
   ]
  },
  {
   "cell_type": "code",
   "execution_count": 71,
   "id": "28b624ab",
   "metadata": {},
   "outputs": [
    {
     "name": "stdout",
     "output_type": "stream",
     "text": [
      "Mean Squared Error fit:  0.002232997453967596\n"
     ]
    }
   ],
   "source": [
    "### Calculate Mean Squared Error fit\n",
    "print('Mean Squared Error fit: ', mse(all_sim, all_emp))"
   ]
  },
  {
   "cell_type": "markdown",
   "id": "c97d13c0",
   "metadata": {},
   "source": [
    "Display Graphs for Exp 2"
   ]
  },
  {
   "cell_type": "code",
   "execution_count": 72,
   "id": "34b79788",
   "metadata": {},
   "outputs": [],
   "source": [
    "import matplotlib.pyplot as plt\n",
    "%matplotlib inline"
   ]
  },
  {
   "cell_type": "code",
   "execution_count": 73,
   "id": "cded3b01",
   "metadata": {},
   "outputs": [],
   "source": [
    "labels = ['R old', 'F old', 'R related', 'F related', 'Unrelated']\n",
    "x_pos = np.arange(len(labels))"
   ]
  },
  {
   "cell_type": "code",
   "execution_count": 74,
   "id": "71d6bf66",
   "metadata": {},
   "outputs": [
    {
     "data": {
      "image/png": "[encoded data removed]",
      "text/plain": [
       "<Figure size 1200x2000 with 6 Axes>"
      ]
     },
     "metadata": {},
     "output_type": "display_data"
    }
   ],
   "source": [
    "fig, ax = plt.subplots(3, 2)\n",
    "fig.tight_layout()\n",
    "\n",
    "plt.setp(ax, ylim=(0, 1))\n",
    "\n",
    "ax[0, 0].bar(x_pos, sem_emp,\n",
    "       yerr=sem_emp_sds,\n",
    "       align='center',\n",
    "       alpha=0.5,\n",
    "       ecolor='black',\n",
    "       capsize=10)\n",
    "ax[0, 0].set_ylabel('Proportion OLD')\n",
    "ax[0, 0].set_xticks(x_pos)\n",
    "ax[0, 0].set_xticklabels(labels)\n",
    "ax[0, 0].set_title('Exp 2a: Empirical Semantic Directed Forgetting')\n",
    "ax[0, 0].yaxis.grid(True)\n",
    "\n",
    "\n",
    "ax[0, 1].bar(x_pos, sem_sim,\n",
    "       yerr=sem_sim_sds,\n",
    "       align='center',\n",
    "       alpha=0.5,\n",
    "       ecolor='black',\n",
    "       capsize=10)\n",
    "ax[0, 1].set_ylabel('Proportion OLD')\n",
    "ax[0, 1].set_xticks(x_pos)\n",
    "ax[0, 1].set_xticklabels(labels)\n",
    "ax[0, 1].set_title('Exp 2a: Simulated Semantic Directed Forgetting')\n",
    "ax[0, 1].yaxis.grid(True)\n",
    "\n",
    "\n",
    "ax[1, 0].bar(x_pos, phon_emp,\n",
    "       yerr=phon_emp_sds,\n",
    "       align='center',\n",
    "       alpha=0.5,\n",
    "       ecolor='black',\n",
    "       capsize=10)\n",
    "ax[1, 0].set_ylabel('Proportion OLD')\n",
    "ax[1, 0].set_xticks(x_pos)\n",
    "ax[1, 0].set_xticklabels(labels)\n",
    "ax[1, 0].set_title('Exp 2b: Empirical Phonological Directed Forgetting')\n",
    "ax[1, 0].yaxis.grid(True)\n",
    "\n",
    "\n",
    "ax[1, 1].bar(x_pos, phon_sim,\n",
    "       yerr=phon_sim_sds,\n",
    "       align='center',\n",
    "       alpha=0.5,\n",
    "       ecolor='black',\n",
    "       capsize=10)\n",
    "ax[1, 1].set_ylabel('Proportion OLD')\n",
    "ax[1, 1].set_xticks(x_pos)\n",
    "ax[1, 1].set_xticklabels(labels)\n",
    "ax[1, 1].set_title('Exp 2b: Simulated Phonological Directed Forgetting')\n",
    "ax[1, 1].yaxis.grid(True)\n",
    "\n",
    "ax[2, 0].bar(x_pos, ortho_emp,\n",
    "       yerr=ortho_emp_sds,\n",
    "       align='center',\n",
    "       alpha=0.5,\n",
    "       ecolor='black',\n",
    "       capsize=10)\n",
    "ax[2, 0].set_ylabel('Proportion OLD')\n",
    "ax[2, 0].set_xticks(x_pos)\n",
    "ax[2, 0].set_xticklabels(labels)\n",
    "ax[2, 0].set_title('Exp 2c: Empirical Orthographic Nonword Directed Forgetting')\n",
    "ax[2, 0].yaxis.grid(True)\n",
    "\n",
    "\n",
    "ax[2, 1].bar(x_pos, ortho_sim,\n",
    "       yerr=ortho_sim_sds,\n",
    "       align='center',\n",
    "       alpha=0.5,\n",
    "       ecolor='black',\n",
    "       capsize=10)\n",
    "ax[2, 1].set_ylabel('Proportion OLD')\n",
    "ax[2, 1].set_xticks(x_pos)\n",
    "ax[2, 1].set_xticklabels(labels)\n",
    "ax[2, 1].set_title('Exp 2c: Simulated Orthographic Nonword Directed Forgetting')\n",
    "ax[2, 1].yaxis.grid(True)\n",
    "\n",
    "fig.set_size_inches(12, 20, forward=True)"
   ]
  },
  {
   "cell_type": "code",
   "execution_count": 75,
   "id": "c7f625a1",
   "metadata": {},
   "outputs": [
    {
     "name": "stdout",
     "output_type": "stream",
     "text": [
      "R-squared fit overall:  0.952220819001258\n"
     ]
    },
    {
     "data": {
      "image/png": "[encoded data removed]",
      "text/plain": [
       "<Figure size 640x480 with 1 Axes>"
      ]
     },
     "metadata": {},
     "output_type": "display_data"
    }
   ],
   "source": [
    "# Display scatterplot\n",
    "print('R-squared fit overall: ', r_sq(all_emp, all_sim))\n",
    "plt.scatter(all_emp, all_sim)\n",
    "plt.plot(np.unique(all_emp), np.poly1d(np.polyfit(all_emp, all_sim, 1))(np.unique(all_emp)))\n",
    "plt.xlabel(\"Empirical Means\")\n",
    "plt.ylabel(\"Simulated Means\")\n",
    "plt.show()"
   ]
  },
  {
   "cell_type": "code",
   "execution_count": null,
   "id": "fc8a58a4",
   "metadata": {},
   "outputs": [],
   "source": []
  }
 ],
 "metadata": {
  "kernelspec": {
   "display_name": "Python 3 (ipykernel)",
   "language": "python",
   "name": "python3"
  },
  "language_info": {
   "codemirror_mode": {
    "name": "ipython",
    "version": 3
   },
   "file_extension": ".py",
   "mimetype": "text/x-python",
   "name": "python",
   "nbconvert_exporter": "python",
   "pygments_lexer": "ipython3",
   "version": "3.11.5"
  }
 },
 "nbformat": 4,
 "nbformat_minor": 5
}
